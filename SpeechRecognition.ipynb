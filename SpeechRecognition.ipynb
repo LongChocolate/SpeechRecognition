{
  "cells": [
    {
      "cell_type": "markdown",
      "metadata": {
        "id": "x5kJoIyIqyTc"
      },
      "source": [
        "## Introduction\n",
        "\n",
        "Automatic speech recognition (ASR) consists of transcribing audio speech segments into text.\n",
        "ASR can be treated as a sequence-to-sequence problem, where the\n",
        "audio can be represented as a sequence of feature vectors\n",
        "and the text as a sequence of characters, words, or subword tokens."
      ]
    },
    {
      "cell_type": "code",
      "execution_count": null,
      "metadata": {
        "id": "nra7PeVIqyTd"
      },
      "outputs": [],
      "source": [
        "\n",
        "import os\n",
        "import random\n",
        "from glob import glob\n",
        "import tensorflow as tf\n",
        "from tensorflow import keras\n",
        "from tensorflow.keras import layers\n"
      ]
    },
    {
      "cell_type": "markdown",
      "metadata": {
        "id": "fSPZtghNqyTe"
      },
      "source": [
        "## Define the Transformer Input Layer\n",
        "\n",
        "When processing past target tokens for the decoder, we compute the sum of\n",
        "position embeddings and token embeddings.\n",
        "\n",
        "When processing audio features, we apply convolutional layers to downsample\n",
        "them (via convolution stides) and process local relationships."
      ]
    },
    {
      "cell_type": "code",
      "execution_count": null,
      "metadata": {
        "id": "69j149s2qyTf"
      },
      "outputs": [],
      "source": [
        "\n",
        "class TokenEmbedding(layers.Layer):\n",
        "    def __init__(self, num_vocab=1000, maxlen=100, num_hid=64):\n",
        "        super().__init__()\n",
        "        self.emb = tf.keras.layers.Embedding(num_vocab, num_hid)\n",
        "        self.pos_emb = layers.Embedding(input_dim=maxlen, output_dim=num_hid)\n",
        "\n",
        "    def call(self, x):\n",
        "        maxlen = tf.shape(x)[-1]\n",
        "        x = self.emb(x)\n",
        "        positions = tf.range(start=0, limit=maxlen, delta=1)\n",
        "        positions = self.pos_emb(positions)\n",
        "        return x + positions\n",
        "\n",
        "\n",
        "class SpeechFeatureEmbedding(layers.Layer):\n",
        "    def __init__(self, num_hid=64, maxlen=100):\n",
        "        super().__init__()\n",
        "        self.conv1 = tf.keras.layers.Conv1D(\n",
        "            num_hid, 11, strides=2, padding=\"same\", activation=\"relu\"\n",
        "        )\n",
        "        self.conv2 = tf.keras.layers.Conv1D(\n",
        "            num_hid, 11, strides=2, padding=\"same\", activation=\"relu\"\n",
        "        )\n",
        "        self.conv3 = tf.keras.layers.Conv1D(\n",
        "            num_hid, 11, strides=2, padding=\"same\", activation=\"relu\"\n",
        "        )\n",
        "        self.pos_emb = layers.Embedding(input_dim=maxlen, output_dim=num_hid)\n",
        "\n",
        "    def call(self, x):\n",
        "        x = self.conv1(x)\n",
        "        x = self.conv2(x)\n",
        "        return self.conv3(x)\n"
      ]
    },
    {
      "cell_type": "markdown",
      "metadata": {
        "id": "buWaD1HZqyTf"
      },
      "source": [
        "## Transformer Encoder Layer"
      ]
    },
    {
      "cell_type": "code",
      "execution_count": null,
      "metadata": {
        "id": "c3M6-4fwqyTg"
      },
      "outputs": [],
      "source": [
        "\n",
        "class TransformerEncoder(layers.Layer):\n",
        "    def __init__(self, embed_dim, num_heads, feed_forward_dim, rate=0.1):\n",
        "        super().__init__()\n",
        "        self.att = layers.MultiHeadAttention(num_heads=num_heads, key_dim=embed_dim)\n",
        "        self.ffn = keras.Sequential(\n",
        "            [\n",
        "                layers.Dense(feed_forward_dim, activation=\"relu\"),\n",
        "                layers.Dense(embed_dim),\n",
        "            ]\n",
        "        )\n",
        "        self.layernorm1 = layers.LayerNormalization(epsilon=1e-6)\n",
        "        self.layernorm2 = layers.LayerNormalization(epsilon=1e-6)\n",
        "        self.dropout1 = layers.Dropout(rate)\n",
        "        self.dropout2 = layers.Dropout(rate)\n",
        "\n",
        "    def call(self, inputs, training):\n",
        "        attn_output = self.att(inputs, inputs)\n",
        "        attn_output = self.dropout1(attn_output, training=training)\n",
        "        out1 = self.layernorm1(inputs + attn_output)\n",
        "        ffn_output = self.ffn(out1)\n",
        "        ffn_output = self.dropout2(ffn_output, training=training)\n",
        "        return self.layernorm2(out1 + ffn_output)\n"
      ]
    },
    {
      "cell_type": "markdown",
      "metadata": {
        "id": "w7fr-C2oqyTh"
      },
      "source": [
        "## Transformer Decoder Layer"
      ]
    },
    {
      "cell_type": "code",
      "execution_count": null,
      "metadata": {
        "id": "UkV5LTSjqyTh"
      },
      "outputs": [],
      "source": [
        "\n",
        "class TransformerDecoder(layers.Layer):\n",
        "    def __init__(self, embed_dim, num_heads, feed_forward_dim, dropout_rate=0.1):\n",
        "        super().__init__()\n",
        "        self.layernorm1 = layers.LayerNormalization(epsilon=1e-6)\n",
        "        self.layernorm2 = layers.LayerNormalization(epsilon=1e-6)\n",
        "        self.layernorm3 = layers.LayerNormalization(epsilon=1e-6)\n",
        "        self.self_att = layers.MultiHeadAttention(\n",
        "            num_heads=num_heads, key_dim=embed_dim\n",
        "        )\n",
        "        self.enc_att = layers.MultiHeadAttention(num_heads=num_heads, key_dim=embed_dim)\n",
        "#         self.self_dropout = layers.Dropout(0.5)\n",
        "#         self.enc_dropout = layers.Dropout(0.1)\n",
        "#         self.ffn_dropout = layers.Dropout(0.1)\n",
        "        self.self_dropout = layers.Dropout(0.25)\n",
        "        self.enc_dropout = layers.Dropout(0.1)\n",
        "        self.ffn_dropout = layers.Dropout(0.1)\n",
        "        self.ffn = keras.Sequential(\n",
        "            [\n",
        "                layers.Dense(feed_forward_dim, activation=\"relu\"),\n",
        "                layers.Dense(embed_dim),\n",
        "            ]\n",
        "        )\n",
        "\n",
        "    def causal_attention_mask(self, batch_size, n_dest, n_src, dtype):\n",
        "        \"\"\"Masks the upper half of the dot product matrix in self attention.\n",
        "\n",
        "        This prevents flow of information from future tokens to current token.\n",
        "        1's in the lower triangle, counting from the lower right corner.\n",
        "        \"\"\"\n",
        "        i = tf.range(n_dest)[:, None]\n",
        "        j = tf.range(n_src)\n",
        "        m = i >= j - n_src + n_dest\n",
        "        mask = tf.cast(m, dtype)\n",
        "        mask = tf.reshape(mask, [1, n_dest, n_src])\n",
        "        mult = tf.concat(\n",
        "            [tf.expand_dims(batch_size, -1), tf.constant([1, 1], dtype=tf.int32)], 0\n",
        "        )\n",
        "        return tf.tile(mask, mult)\n",
        "\n",
        "    def call(self, enc_out, target):\n",
        "        input_shape = tf.shape(target)\n",
        "        batch_size = input_shape[0]\n",
        "        seq_len = input_shape[1]\n",
        "        causal_mask = self.causal_attention_mask(batch_size, seq_len, seq_len, tf.bool)\n",
        "        target_att = self.self_att(target, target, attention_mask=causal_mask)\n",
        "        target_norm = self.layernorm1(target + self.self_dropout(target_att))\n",
        "        enc_out = self.enc_att(target_norm, enc_out)\n",
        "        enc_out_norm = self.layernorm2(self.enc_dropout(enc_out) + target_norm)\n",
        "        ffn_out = self.ffn(enc_out_norm)\n",
        "        ffn_out_norm = self.layernorm3(enc_out_norm + self.ffn_dropout(ffn_out))\n",
        "        return ffn_out_norm\n"
      ]
    },
    {
      "cell_type": "markdown",
      "metadata": {
        "id": "Mgh6p1tkqyTi"
      },
      "source": [
        "## Complete the Transformer model\n",
        "\n",
        "Our model takes audio spectrograms as inputs and predicts a sequence of characters.\n",
        "During training, we give the decoder the target character sequence shifted to the left\n",
        "as input. During inference, the decoder uses its own past predictions to predict the\n",
        "next token."
      ]
    },
    {
      "cell_type": "code",
      "execution_count": null,
      "metadata": {
        "id": "yELZMPzOqyTi"
      },
      "outputs": [],
      "source": [
        "\n",
        "class Transformer(keras.Model):\n",
        "    def __init__(\n",
        "        self,\n",
        "        num_hid=64,\n",
        "        num_head=2,\n",
        "        num_feed_forward=128,\n",
        "        source_maxlen=100,\n",
        "        target_maxlen=100,\n",
        "        num_layers_enc=4,\n",
        "        num_layers_dec=1,\n",
        "        num_classes=10,\n",
        "    ):\n",
        "        super().__init__()\n",
        "        self.loss_metric = keras.metrics.Mean(name=\"loss\")\n",
        "        self.num_layers_enc = num_layers_enc\n",
        "        self.num_layers_dec = num_layers_dec\n",
        "        self.target_maxlen = target_maxlen\n",
        "        self.num_classes = num_classes\n",
        "\n",
        "        self.enc_input = SpeechFeatureEmbedding(num_hid=num_hid, maxlen=source_maxlen)\n",
        "        self.dec_input = TokenEmbedding(\n",
        "            num_vocab=num_classes, maxlen=target_maxlen, num_hid=num_hid\n",
        "        )\n",
        "\n",
        "        self.encoder = keras.Sequential(\n",
        "            [self.enc_input]\n",
        "            + [\n",
        "                TransformerEncoder(num_hid, num_head, num_feed_forward)\n",
        "                for _ in range(num_layers_enc)\n",
        "            ]\n",
        "        )\n",
        "\n",
        "        for i in range(num_layers_dec):\n",
        "            setattr(\n",
        "                self,\n",
        "                f\"dec_layer_{i}\",\n",
        "                TransformerDecoder(num_hid, num_head, num_feed_forward),\n",
        "            )\n",
        "\n",
        "        self.classifier = layers.Dense(num_classes)\n",
        "\n",
        "    def decode(self, enc_out, target):\n",
        "        y = self.dec_input(target)\n",
        "        for i in range(self.num_layers_dec):\n",
        "            y = getattr(self, f\"dec_layer_{i}\")(enc_out, y)\n",
        "        return y\n",
        "\n",
        "    def call(self, inputs):\n",
        "        source = inputs[0]\n",
        "        target = inputs[1]\n",
        "        x = self.encoder(source)\n",
        "        y = self.decode(x, target)\n",
        "        return self.classifier(y)\n",
        "\n",
        "    @property\n",
        "    def metrics(self):\n",
        "        return [self.loss_metric]\n",
        "\n",
        "    def train_step(self, batch):\n",
        "        \"\"\"Processes one batch inside model.fit().\"\"\"\n",
        "        source = batch[\"source\"]\n",
        "        target = batch[\"target\"]\n",
        "        dec_input = target[:, :-1]\n",
        "        dec_target = target[:, 1:]\n",
        "        with tf.GradientTape() as tape:\n",
        "            preds = self([source, dec_input])\n",
        "            one_hot = tf.one_hot(dec_target, depth=self.num_classes)\n",
        "            mask = tf.math.logical_not(tf.math.equal(dec_target, 0))\n",
        "            loss = self.compiled_loss(one_hot, preds, sample_weight=mask)\n",
        "        trainable_vars = self.trainable_variables\n",
        "        gradients = tape.gradient(loss, trainable_vars)\n",
        "        self.optimizer.apply_gradients(zip(gradients, trainable_vars))\n",
        "        self.loss_metric.update_state(loss)\n",
        "        return {\"loss\": self.loss_metric.result()}\n",
        "\n",
        "    def test_step(self, batch):\n",
        "        source = batch[\"source\"]\n",
        "        target = batch[\"target\"]\n",
        "        dec_input = target[:, :-1]\n",
        "        dec_target = target[:, 1:]\n",
        "        preds = self([source, dec_input])\n",
        "        one_hot = tf.one_hot(dec_target, depth=self.num_classes)\n",
        "        mask = tf.math.logical_not(tf.math.equal(dec_target, 0))\n",
        "        loss = self.compiled_loss(one_hot, preds, sample_weight=mask)\n",
        "        self.loss_metric.update_state(loss)\n",
        "        return {\"loss\": self.loss_metric.result()}\n",
        "\n",
        "    def generate(self, source, target_start_token_idx):\n",
        "        \"\"\"Performs inference over one batch of inputs using greedy decoding.\"\"\"\n",
        "        bs = tf.shape(source)[0]\n",
        "        enc = self.encoder(source)\n",
        "        dec_input = tf.ones((bs, 1), dtype=tf.int32) * target_start_token_idx\n",
        "        dec_logits = []\n",
        "        for i in range(self.target_maxlen - 1):\n",
        "            dec_out = self.decode(enc, dec_input)\n",
        "            logits = self.classifier(dec_out)\n",
        "            logits = tf.argmax(logits, axis=-1, output_type=tf.int32)\n",
        "            last_logit = tf.expand_dims(logits[:, -1], axis=-1)\n",
        "            dec_logits.append(last_logit)\n",
        "            dec_input = tf.concat([dec_input, last_logit], axis=-1)\n",
        "        return dec_input\n"
      ]
    },
    {
      "cell_type": "markdown",
      "metadata": {
        "id": "kVcJmUU2qyTj"
      },
      "source": [
        "## Dataset"
      ]
    },
    {
      "cell_type": "code",
      "source": [
        "!git clone https://github.com/hoainam2001/data_spc.git"
      ],
      "metadata": {
        "colab": {
          "base_uri": "https://localhost:8080/"
        },
        "id": "FXaW2QzZ-E2R",
        "outputId": "2132902d-ef45-4a5d-8b77-3401ecea8728"
      },
      "execution_count": null,
      "outputs": [
        {
          "output_type": "stream",
          "name": "stdout",
          "text": [
            "fatal: destination path 'data_spc' already exists and is not an empty directory.\n"
          ]
        }
      ]
    },
    {
      "cell_type": "code",
      "execution_count": null,
      "metadata": {
        "colab": {
          "base_uri": "https://localhost:8080/"
        },
        "id": "DarespoAqyTj",
        "outputId": "b553a5d4-d33f-4038-b811-c336ea06bc25"
      },
      "outputs": [
        {
          "output_type": "stream",
          "name": "stdout",
          "text": [
            "['./data_spc/Wav/Astronomers_Observe_Huge_Planet_Being_Formed/3.wav', './data_spc/Wav/Astronomers_Observe_Huge_Planet_Being_Formed/24.wav', './data_spc/Wav/Astronomers_Observe_Huge_Planet_Being_Formed/32.wav', './data_spc/Wav/Astronomers_Observe_Huge_Planet_Being_Formed/2.wav', './data_spc/Wav/Astronomers_Observe_Huge_Planet_Being_Formed/18.wav', './data_spc/Wav/Astronomers_Observe_Huge_Planet_Being_Formed/12.wav', './data_spc/Wav/Astronomers_Observe_Huge_Planet_Being_Formed/8.wav', './data_spc/Wav/Astronomers_Observe_Huge_Planet_Being_Formed/10.wav', './data_spc/Wav/Astronomers_Observe_Huge_Planet_Being_Formed/15.wav', './data_spc/Wav/Astronomers_Observe_Huge_Planet_Being_Formed/4.wav', './data_spc/Wav/Astronomers_Observe_Huge_Planet_Being_Formed/31.wav', './data_spc/Wav/Astronomers_Observe_Huge_Planet_Being_Formed/22.wav', './data_spc/Wav/Astronomers_Observe_Huge_Planet_Being_Formed/6.wav', './data_spc/Wav/Astronomers_Observe_Huge_Planet_Being_Formed/23.wav', './data_spc/Wav/Astronomers_Observe_Huge_Planet_Being_Formed/33.wav', './data_spc/Wav/Astronomers_Observe_Huge_Planet_Being_Formed/1.wav', './data_spc/Wav/Astronomers_Observe_Huge_Planet_Being_Formed/28.wav', './data_spc/Wav/Astronomers_Observe_Huge_Planet_Being_Formed/26.wav', './data_spc/Wav/Astronomers_Observe_Huge_Planet_Being_Formed/19.wav', './data_spc/Wav/Astronomers_Observe_Huge_Planet_Being_Formed/27.wav', './data_spc/Wav/Astronomers_Observe_Huge_Planet_Being_Formed/30.wav', './data_spc/Wav/Astronomers_Observe_Huge_Planet_Being_Formed/16.wav', './data_spc/Wav/Astronomers_Observe_Huge_Planet_Being_Formed/25.wav', './data_spc/Wav/Astronomers_Observe_Huge_Planet_Being_Formed/21.wav', './data_spc/Wav/Astronomers_Observe_Huge_Planet_Being_Formed/9.wav', './data_spc/Wav/Astronomers_Observe_Huge_Planet_Being_Formed/13.wav', './data_spc/Wav/Astronomers_Observe_Huge_Planet_Being_Formed/7.wav', './data_spc/Wav/Astronomers_Observe_Huge_Planet_Being_Formed/17.wav', './data_spc/Wav/Astronomers_Observe_Huge_Planet_Being_Formed/5.wav', './data_spc/Wav/Astronomers_Observe_Huge_Planet_Being_Formed/20.wav', './data_spc/Wav/Astronomers_Observe_Huge_Planet_Being_Formed/11.wav', './data_spc/Wav/Astronomers_Observe_Huge_Planet_Being_Formed/14.wav', './data_spc/Wav/Astronomers_Observe_Huge_Planet_Being_Formed/29.wav', './data_spc/Wav/New_Space_Vehicle_Built_to_Explore_the_Moon/3.wav', './data_spc/Wav/New_Space_Vehicle_Built_to_Explore_the_Moon/24.wav', './data_spc/Wav/New_Space_Vehicle_Built_to_Explore_the_Moon/2.wav', './data_spc/Wav/New_Space_Vehicle_Built_to_Explore_the_Moon/18.wav', './data_spc/Wav/New_Space_Vehicle_Built_to_Explore_the_Moon/12.wav', './data_spc/Wav/New_Space_Vehicle_Built_to_Explore_the_Moon/8.wav', './data_spc/Wav/New_Space_Vehicle_Built_to_Explore_the_Moon/10.wav', './data_spc/Wav/New_Space_Vehicle_Built_to_Explore_the_Moon/15.wav', './data_spc/Wav/New_Space_Vehicle_Built_to_Explore_the_Moon/4.wav', './data_spc/Wav/New_Space_Vehicle_Built_to_Explore_the_Moon/22.wav', './data_spc/Wav/New_Space_Vehicle_Built_to_Explore_the_Moon/6.wav', './data_spc/Wav/New_Space_Vehicle_Built_to_Explore_the_Moon/23.wav', './data_spc/Wav/New_Space_Vehicle_Built_to_Explore_the_Moon/1.wav', './data_spc/Wav/New_Space_Vehicle_Built_to_Explore_the_Moon/26.wav', './data_spc/Wav/New_Space_Vehicle_Built_to_Explore_the_Moon/19.wav', './data_spc/Wav/New_Space_Vehicle_Built_to_Explore_the_Moon/27.wav', './data_spc/Wav/New_Space_Vehicle_Built_to_Explore_the_Moon/16.wav', './data_spc/Wav/New_Space_Vehicle_Built_to_Explore_the_Moon/25.wav', './data_spc/Wav/New_Space_Vehicle_Built_to_Explore_the_Moon/21.wav', './data_spc/Wav/New_Space_Vehicle_Built_to_Explore_the_Moon/9.wav', './data_spc/Wav/New_Space_Vehicle_Built_to_Explore_the_Moon/13.wav', './data_spc/Wav/New_Space_Vehicle_Built_to_Explore_the_Moon/7.wav', './data_spc/Wav/New_Space_Vehicle_Built_to_Explore_the_Moon/17.wav', './data_spc/Wav/New_Space_Vehicle_Built_to_Explore_the_Moon/5.wav', './data_spc/Wav/New_Space_Vehicle_Built_to_Explore_the_Moon/20.wav', './data_spc/Wav/New_Space_Vehicle_Built_to_Explore_the_Moon/11.wav', './data_spc/Wav/New_Space_Vehicle_Built_to_Explore_the_Moon/14.wav', './data_spc/Wav/NASA_Looks_to_Build_Huge_Telescopes_with_Fluid_Materials/3.wav', './data_spc/Wav/NASA_Looks_to_Build_Huge_Telescopes_with_Fluid_Materials/24.wav', './data_spc/Wav/NASA_Looks_to_Build_Huge_Telescopes_with_Fluid_Materials/32.wav', './data_spc/Wav/NASA_Looks_to_Build_Huge_Telescopes_with_Fluid_Materials/39.wav', './data_spc/Wav/NASA_Looks_to_Build_Huge_Telescopes_with_Fluid_Materials/2.wav', './data_spc/Wav/NASA_Looks_to_Build_Huge_Telescopes_with_Fluid_Materials/18.wav', './data_spc/Wav/NASA_Looks_to_Build_Huge_Telescopes_with_Fluid_Materials/42.wav', './data_spc/Wav/NASA_Looks_to_Build_Huge_Telescopes_with_Fluid_Materials/12.wav', './data_spc/Wav/NASA_Looks_to_Build_Huge_Telescopes_with_Fluid_Materials/34.wav', './data_spc/Wav/NASA_Looks_to_Build_Huge_Telescopes_with_Fluid_Materials/8.wav', './data_spc/Wav/NASA_Looks_to_Build_Huge_Telescopes_with_Fluid_Materials/40.wav', './data_spc/Wav/NASA_Looks_to_Build_Huge_Telescopes_with_Fluid_Materials/10.wav', './data_spc/Wav/NASA_Looks_to_Build_Huge_Telescopes_with_Fluid_Materials/15.wav', './data_spc/Wav/NASA_Looks_to_Build_Huge_Telescopes_with_Fluid_Materials/4.wav', './data_spc/Wav/NASA_Looks_to_Build_Huge_Telescopes_with_Fluid_Materials/31.wav', './data_spc/Wav/NASA_Looks_to_Build_Huge_Telescopes_with_Fluid_Materials/22.wav', './data_spc/Wav/NASA_Looks_to_Build_Huge_Telescopes_with_Fluid_Materials/6.wav', './data_spc/Wav/NASA_Looks_to_Build_Huge_Telescopes_with_Fluid_Materials/23.wav', './data_spc/Wav/NASA_Looks_to_Build_Huge_Telescopes_with_Fluid_Materials/35.wav', './data_spc/Wav/NASA_Looks_to_Build_Huge_Telescopes_with_Fluid_Materials/33.wav', './data_spc/Wav/NASA_Looks_to_Build_Huge_Telescopes_with_Fluid_Materials/1.wav', './data_spc/Wav/NASA_Looks_to_Build_Huge_Telescopes_with_Fluid_Materials/28.wav', './data_spc/Wav/NASA_Looks_to_Build_Huge_Telescopes_with_Fluid_Materials/26.wav', './data_spc/Wav/NASA_Looks_to_Build_Huge_Telescopes_with_Fluid_Materials/37.wav', './data_spc/Wav/NASA_Looks_to_Build_Huge_Telescopes_with_Fluid_Materials/38.wav', './data_spc/Wav/NASA_Looks_to_Build_Huge_Telescopes_with_Fluid_Materials/41.wav', './data_spc/Wav/NASA_Looks_to_Build_Huge_Telescopes_with_Fluid_Materials/19.wav', './data_spc/Wav/NASA_Looks_to_Build_Huge_Telescopes_with_Fluid_Materials/36.wav', './data_spc/Wav/NASA_Looks_to_Build_Huge_Telescopes_with_Fluid_Materials/27.wav', './data_spc/Wav/NASA_Looks_to_Build_Huge_Telescopes_with_Fluid_Materials/30.wav', './data_spc/Wav/NASA_Looks_to_Build_Huge_Telescopes_with_Fluid_Materials/16.wav', './data_spc/Wav/NASA_Looks_to_Build_Huge_Telescopes_with_Fluid_Materials/25.wav', './data_spc/Wav/NASA_Looks_to_Build_Huge_Telescopes_with_Fluid_Materials/21.wav', './data_spc/Wav/NASA_Looks_to_Build_Huge_Telescopes_with_Fluid_Materials/9.wav', './data_spc/Wav/NASA_Looks_to_Build_Huge_Telescopes_with_Fluid_Materials/13.wav', './data_spc/Wav/NASA_Looks_to_Build_Huge_Telescopes_with_Fluid_Materials/7.wav', './data_spc/Wav/NASA_Looks_to_Build_Huge_Telescopes_with_Fluid_Materials/17.wav', './data_spc/Wav/NASA_Looks_to_Build_Huge_Telescopes_with_Fluid_Materials/5.wav', './data_spc/Wav/NASA_Looks_to_Build_Huge_Telescopes_with_Fluid_Materials/20.wav', './data_spc/Wav/NASA_Looks_to_Build_Huge_Telescopes_with_Fluid_Materials/11.wav', './data_spc/Wav/NASA_Looks_to_Build_Huge_Telescopes_with_Fluid_Materials/14.wav', './data_spc/Wav/NASA_Looks_to_Build_Huge_Telescopes_with_Fluid_Materials/29.wav', './data_spc/Wav/How_to_Grow_Eat_Sunflowers/3.wav', './data_spc/Wav/How_to_Grow_Eat_Sunflowers/24.wav', './data_spc/Wav/How_to_Grow_Eat_Sunflowers/32.wav', './data_spc/Wav/How_to_Grow_Eat_Sunflowers/39.wav', './data_spc/Wav/How_to_Grow_Eat_Sunflowers/45.wav', './data_spc/Wav/How_to_Grow_Eat_Sunflowers/2.wav', './data_spc/Wav/How_to_Grow_Eat_Sunflowers/18.wav', './data_spc/Wav/How_to_Grow_Eat_Sunflowers/42.wav', './data_spc/Wav/How_to_Grow_Eat_Sunflowers/12.wav', './data_spc/Wav/How_to_Grow_Eat_Sunflowers/48.wav', './data_spc/Wav/How_to_Grow_Eat_Sunflowers/34.wav', './data_spc/Wav/How_to_Grow_Eat_Sunflowers/8.wav', './data_spc/Wav/How_to_Grow_Eat_Sunflowers/40.wav', './data_spc/Wav/How_to_Grow_Eat_Sunflowers/10.wav', './data_spc/Wav/How_to_Grow_Eat_Sunflowers/15.wav', './data_spc/Wav/How_to_Grow_Eat_Sunflowers/54.wav', './data_spc/Wav/How_to_Grow_Eat_Sunflowers/43.wav', './data_spc/Wav/How_to_Grow_Eat_Sunflowers/4.wav', './data_spc/Wav/How_to_Grow_Eat_Sunflowers/50.wav', './data_spc/Wav/How_to_Grow_Eat_Sunflowers/53.wav', './data_spc/Wav/How_to_Grow_Eat_Sunflowers/31.wav', './data_spc/Wav/How_to_Grow_Eat_Sunflowers/22.wav', './data_spc/Wav/How_to_Grow_Eat_Sunflowers/6.wav', './data_spc/Wav/How_to_Grow_Eat_Sunflowers/46.wav', './data_spc/Wav/How_to_Grow_Eat_Sunflowers/44.wav', './data_spc/Wav/How_to_Grow_Eat_Sunflowers/49.wav', './data_spc/Wav/How_to_Grow_Eat_Sunflowers/51.wav', './data_spc/Wav/How_to_Grow_Eat_Sunflowers/23.wav', './data_spc/Wav/How_to_Grow_Eat_Sunflowers/35.wav', './data_spc/Wav/How_to_Grow_Eat_Sunflowers/33.wav', './data_spc/Wav/How_to_Grow_Eat_Sunflowers/1.wav', './data_spc/Wav/How_to_Grow_Eat_Sunflowers/28.wav', './data_spc/Wav/How_to_Grow_Eat_Sunflowers/26.wav', './data_spc/Wav/How_to_Grow_Eat_Sunflowers/52.wav', './data_spc/Wav/How_to_Grow_Eat_Sunflowers/37.wav', './data_spc/Wav/How_to_Grow_Eat_Sunflowers/38.wav', './data_spc/Wav/How_to_Grow_Eat_Sunflowers/41.wav', './data_spc/Wav/How_to_Grow_Eat_Sunflowers/19.wav', './data_spc/Wav/How_to_Grow_Eat_Sunflowers/36.wav', './data_spc/Wav/How_to_Grow_Eat_Sunflowers/27.wav', './data_spc/Wav/How_to_Grow_Eat_Sunflowers/30.wav', './data_spc/Wav/How_to_Grow_Eat_Sunflowers/16.wav', './data_spc/Wav/How_to_Grow_Eat_Sunflowers/25.wav', './data_spc/Wav/How_to_Grow_Eat_Sunflowers/21.wav', './data_spc/Wav/How_to_Grow_Eat_Sunflowers/9.wav', './data_spc/Wav/How_to_Grow_Eat_Sunflowers/13.wav', './data_spc/Wav/How_to_Grow_Eat_Sunflowers/7.wav', './data_spc/Wav/How_to_Grow_Eat_Sunflowers/17.wav', './data_spc/Wav/How_to_Grow_Eat_Sunflowers/5.wav', './data_spc/Wav/How_to_Grow_Eat_Sunflowers/20.wav', './data_spc/Wav/How_to_Grow_Eat_Sunflowers/11.wav', './data_spc/Wav/How_to_Grow_Eat_Sunflowers/14.wav', './data_spc/Wav/How_to_Grow_Eat_Sunflowers/47.wav', './data_spc/Wav/How_to_Grow_Eat_Sunflowers/29.wav', './data_spc/Wav/Robotic_Boat_to_Help_Measure_Sea_Effects_of_Tonga_Volcano/3.wav', './data_spc/Wav/Robotic_Boat_to_Help_Measure_Sea_Effects_of_Tonga_Volcano/24.wav', './data_spc/Wav/Robotic_Boat_to_Help_Measure_Sea_Effects_of_Tonga_Volcano/2.wav', './data_spc/Wav/Robotic_Boat_to_Help_Measure_Sea_Effects_of_Tonga_Volcano/18.wav', './data_spc/Wav/Robotic_Boat_to_Help_Measure_Sea_Effects_of_Tonga_Volcano/12.wav', './data_spc/Wav/Robotic_Boat_to_Help_Measure_Sea_Effects_of_Tonga_Volcano/8.wav', './data_spc/Wav/Robotic_Boat_to_Help_Measure_Sea_Effects_of_Tonga_Volcano/10.wav', './data_spc/Wav/Robotic_Boat_to_Help_Measure_Sea_Effects_of_Tonga_Volcano/15.wav', './data_spc/Wav/Robotic_Boat_to_Help_Measure_Sea_Effects_of_Tonga_Volcano/4.wav', './data_spc/Wav/Robotic_Boat_to_Help_Measure_Sea_Effects_of_Tonga_Volcano/22.wav', './data_spc/Wav/Robotic_Boat_to_Help_Measure_Sea_Effects_of_Tonga_Volcano/6.wav', './data_spc/Wav/Robotic_Boat_to_Help_Measure_Sea_Effects_of_Tonga_Volcano/23.wav', './data_spc/Wav/Robotic_Boat_to_Help_Measure_Sea_Effects_of_Tonga_Volcano/1.wav', './data_spc/Wav/Robotic_Boat_to_Help_Measure_Sea_Effects_of_Tonga_Volcano/28.wav', './data_spc/Wav/Robotic_Boat_to_Help_Measure_Sea_Effects_of_Tonga_Volcano/26.wav', './data_spc/Wav/Robotic_Boat_to_Help_Measure_Sea_Effects_of_Tonga_Volcano/19.wav', './data_spc/Wav/Robotic_Boat_to_Help_Measure_Sea_Effects_of_Tonga_Volcano/27.wav', './data_spc/Wav/Robotic_Boat_to_Help_Measure_Sea_Effects_of_Tonga_Volcano/30.wav', './data_spc/Wav/Robotic_Boat_to_Help_Measure_Sea_Effects_of_Tonga_Volcano/16.wav', './data_spc/Wav/Robotic_Boat_to_Help_Measure_Sea_Effects_of_Tonga_Volcano/25.wav', './data_spc/Wav/Robotic_Boat_to_Help_Measure_Sea_Effects_of_Tonga_Volcano/21.wav', './data_spc/Wav/Robotic_Boat_to_Help_Measure_Sea_Effects_of_Tonga_Volcano/9.wav', './data_spc/Wav/Robotic_Boat_to_Help_Measure_Sea_Effects_of_Tonga_Volcano/13.wav', './data_spc/Wav/Robotic_Boat_to_Help_Measure_Sea_Effects_of_Tonga_Volcano/7.wav', './data_spc/Wav/Robotic_Boat_to_Help_Measure_Sea_Effects_of_Tonga_Volcano/17.wav', './data_spc/Wav/Robotic_Boat_to_Help_Measure_Sea_Effects_of_Tonga_Volcano/5.wav', './data_spc/Wav/Robotic_Boat_to_Help_Measure_Sea_Effects_of_Tonga_Volcano/20.wav', './data_spc/Wav/Robotic_Boat_to_Help_Measure_Sea_Effects_of_Tonga_Volcano/11.wav', './data_spc/Wav/Robotic_Boat_to_Help_Measure_Sea_Effects_of_Tonga_Volcano/14.wav', './data_spc/Wav/Robotic_Boat_to_Help_Measure_Sea_Effects_of_Tonga_Volcano/29.wav', './data_spc/Wav/Eight_Garden_Flowers_Worth_Revisiting/3.wav', './data_spc/Wav/Eight_Garden_Flowers_Worth_Revisiting/24.wav', './data_spc/Wav/Eight_Garden_Flowers_Worth_Revisiting/32.wav', './data_spc/Wav/Eight_Garden_Flowers_Worth_Revisiting/39.wav', './data_spc/Wav/Eight_Garden_Flowers_Worth_Revisiting/45.wav', './data_spc/Wav/Eight_Garden_Flowers_Worth_Revisiting/2.wav', './data_spc/Wav/Eight_Garden_Flowers_Worth_Revisiting/18.wav', './data_spc/Wav/Eight_Garden_Flowers_Worth_Revisiting/42.wav', './data_spc/Wav/Eight_Garden_Flowers_Worth_Revisiting/12.wav', './data_spc/Wav/Eight_Garden_Flowers_Worth_Revisiting/48.wav', './data_spc/Wav/Eight_Garden_Flowers_Worth_Revisiting/34.wav', './data_spc/Wav/Eight_Garden_Flowers_Worth_Revisiting/8.wav', './data_spc/Wav/Eight_Garden_Flowers_Worth_Revisiting/40.wav', './data_spc/Wav/Eight_Garden_Flowers_Worth_Revisiting/10.wav', './data_spc/Wav/Eight_Garden_Flowers_Worth_Revisiting/15.wav', './data_spc/Wav/Eight_Garden_Flowers_Worth_Revisiting/43.wav', './data_spc/Wav/Eight_Garden_Flowers_Worth_Revisiting/4.wav', './data_spc/Wav/Eight_Garden_Flowers_Worth_Revisiting/50.wav', './data_spc/Wav/Eight_Garden_Flowers_Worth_Revisiting/31.wav', './data_spc/Wav/Eight_Garden_Flowers_Worth_Revisiting/22.wav', './data_spc/Wav/Eight_Garden_Flowers_Worth_Revisiting/6.wav', './data_spc/Wav/Eight_Garden_Flowers_Worth_Revisiting/46.wav', './data_spc/Wav/Eight_Garden_Flowers_Worth_Revisiting/44.wav', './data_spc/Wav/Eight_Garden_Flowers_Worth_Revisiting/49.wav', './data_spc/Wav/Eight_Garden_Flowers_Worth_Revisiting/51.wav', './data_spc/Wav/Eight_Garden_Flowers_Worth_Revisiting/23.wav', './data_spc/Wav/Eight_Garden_Flowers_Worth_Revisiting/35.wav', './data_spc/Wav/Eight_Garden_Flowers_Worth_Revisiting/33.wav', './data_spc/Wav/Eight_Garden_Flowers_Worth_Revisiting/1.wav', './data_spc/Wav/Eight_Garden_Flowers_Worth_Revisiting/28.wav', './data_spc/Wav/Eight_Garden_Flowers_Worth_Revisiting/26.wav', './data_spc/Wav/Eight_Garden_Flowers_Worth_Revisiting/37.wav', './data_spc/Wav/Eight_Garden_Flowers_Worth_Revisiting/38.wav', './data_spc/Wav/Eight_Garden_Flowers_Worth_Revisiting/41.wav', './data_spc/Wav/Eight_Garden_Flowers_Worth_Revisiting/19.wav', './data_spc/Wav/Eight_Garden_Flowers_Worth_Revisiting/36.wav', './data_spc/Wav/Eight_Garden_Flowers_Worth_Revisiting/27.wav', './data_spc/Wav/Eight_Garden_Flowers_Worth_Revisiting/30.wav', './data_spc/Wav/Eight_Garden_Flowers_Worth_Revisiting/16.wav', './data_spc/Wav/Eight_Garden_Flowers_Worth_Revisiting/25.wav', './data_spc/Wav/Eight_Garden_Flowers_Worth_Revisiting/21.wav', './data_spc/Wav/Eight_Garden_Flowers_Worth_Revisiting/9.wav', './data_spc/Wav/Eight_Garden_Flowers_Worth_Revisiting/13.wav', './data_spc/Wav/Eight_Garden_Flowers_Worth_Revisiting/7.wav', './data_spc/Wav/Eight_Garden_Flowers_Worth_Revisiting/17.wav', './data_spc/Wav/Eight_Garden_Flowers_Worth_Revisiting/5.wav', './data_spc/Wav/Eight_Garden_Flowers_Worth_Revisiting/20.wav', './data_spc/Wav/Eight_Garden_Flowers_Worth_Revisiting/11.wav', './data_spc/Wav/Eight_Garden_Flowers_Worth_Revisiting/14.wav', './data_spc/Wav/Eight_Garden_Flowers_Worth_Revisiting/47.wav', './data_spc/Wav/Eight_Garden_Flowers_Worth_Revisiting/29.wav', './data_spc/Wav/California_Permitting_Its_Rivers_More_Space_to_Flow/3.wav', './data_spc/Wav/California_Permitting_Its_Rivers_More_Space_to_Flow/24.wav', './data_spc/Wav/California_Permitting_Its_Rivers_More_Space_to_Flow/32.wav', './data_spc/Wav/California_Permitting_Its_Rivers_More_Space_to_Flow/39.wav', './data_spc/Wav/California_Permitting_Its_Rivers_More_Space_to_Flow/45.wav', './data_spc/Wav/California_Permitting_Its_Rivers_More_Space_to_Flow/2.wav', './data_spc/Wav/California_Permitting_Its_Rivers_More_Space_to_Flow/18.wav', './data_spc/Wav/California_Permitting_Its_Rivers_More_Space_to_Flow/42.wav', './data_spc/Wav/California_Permitting_Its_Rivers_More_Space_to_Flow/12.wav', './data_spc/Wav/California_Permitting_Its_Rivers_More_Space_to_Flow/48.wav', './data_spc/Wav/California_Permitting_Its_Rivers_More_Space_to_Flow/34.wav', './data_spc/Wav/California_Permitting_Its_Rivers_More_Space_to_Flow/8.wav', './data_spc/Wav/California_Permitting_Its_Rivers_More_Space_to_Flow/40.wav', './data_spc/Wav/California_Permitting_Its_Rivers_More_Space_to_Flow/10.wav', './data_spc/Wav/California_Permitting_Its_Rivers_More_Space_to_Flow/15.wav', './data_spc/Wav/California_Permitting_Its_Rivers_More_Space_to_Flow/54.wav', './data_spc/Wav/California_Permitting_Its_Rivers_More_Space_to_Flow/43.wav', './data_spc/Wav/California_Permitting_Its_Rivers_More_Space_to_Flow/4.wav', './data_spc/Wav/California_Permitting_Its_Rivers_More_Space_to_Flow/56.wav', './data_spc/Wav/California_Permitting_Its_Rivers_More_Space_to_Flow/50.wav', './data_spc/Wav/California_Permitting_Its_Rivers_More_Space_to_Flow/53.wav', './data_spc/Wav/California_Permitting_Its_Rivers_More_Space_to_Flow/31.wav', './data_spc/Wav/California_Permitting_Its_Rivers_More_Space_to_Flow/22.wav', './data_spc/Wav/California_Permitting_Its_Rivers_More_Space_to_Flow/6.wav', './data_spc/Wav/California_Permitting_Its_Rivers_More_Space_to_Flow/46.wav', './data_spc/Wav/California_Permitting_Its_Rivers_More_Space_to_Flow/44.wav', './data_spc/Wav/California_Permitting_Its_Rivers_More_Space_to_Flow/49.wav', './data_spc/Wav/California_Permitting_Its_Rivers_More_Space_to_Flow/51.wav', './data_spc/Wav/California_Permitting_Its_Rivers_More_Space_to_Flow/23.wav', './data_spc/Wav/California_Permitting_Its_Rivers_More_Space_to_Flow/35.wav', './data_spc/Wav/California_Permitting_Its_Rivers_More_Space_to_Flow/33.wav', './data_spc/Wav/California_Permitting_Its_Rivers_More_Space_to_Flow/1.wav', './data_spc/Wav/California_Permitting_Its_Rivers_More_Space_to_Flow/28.wav', './data_spc/Wav/California_Permitting_Its_Rivers_More_Space_to_Flow/55.wav', './data_spc/Wav/California_Permitting_Its_Rivers_More_Space_to_Flow/26.wav', './data_spc/Wav/California_Permitting_Its_Rivers_More_Space_to_Flow/58.wav', './data_spc/Wav/California_Permitting_Its_Rivers_More_Space_to_Flow/52.wav', './data_spc/Wav/California_Permitting_Its_Rivers_More_Space_to_Flow/37.wav', './data_spc/Wav/California_Permitting_Its_Rivers_More_Space_to_Flow/38.wav', './data_spc/Wav/California_Permitting_Its_Rivers_More_Space_to_Flow/41.wav', './data_spc/Wav/California_Permitting_Its_Rivers_More_Space_to_Flow/19.wav', './data_spc/Wav/California_Permitting_Its_Rivers_More_Space_to_Flow/36.wav', './data_spc/Wav/California_Permitting_Its_Rivers_More_Space_to_Flow/27.wav', './data_spc/Wav/California_Permitting_Its_Rivers_More_Space_to_Flow/30.wav', './data_spc/Wav/California_Permitting_Its_Rivers_More_Space_to_Flow/16.wav', './data_spc/Wav/California_Permitting_Its_Rivers_More_Space_to_Flow/25.wav', './data_spc/Wav/California_Permitting_Its_Rivers_More_Space_to_Flow/21.wav', './data_spc/Wav/California_Permitting_Its_Rivers_More_Space_to_Flow/9.wav', './data_spc/Wav/California_Permitting_Its_Rivers_More_Space_to_Flow/13.wav', './data_spc/Wav/California_Permitting_Its_Rivers_More_Space_to_Flow/7.wav', './data_spc/Wav/California_Permitting_Its_Rivers_More_Space_to_Flow/17.wav', './data_spc/Wav/California_Permitting_Its_Rivers_More_Space_to_Flow/5.wav', './data_spc/Wav/California_Permitting_Its_Rivers_More_Space_to_Flow/20.wav', './data_spc/Wav/California_Permitting_Its_Rivers_More_Space_to_Flow/57.wav', './data_spc/Wav/California_Permitting_Its_Rivers_More_Space_to_Flow/11.wav', './data_spc/Wav/California_Permitting_Its_Rivers_More_Space_to_Flow/14.wav', './data_spc/Wav/California_Permitting_Its_Rivers_More_Space_to_Flow/47.wav', './data_spc/Wav/California_Permitting_Its_Rivers_More_Space_to_Flow/29.wav', './data_spc/Wav/Scientists_Observing_Neptune_Say_the_Planet_Is_Getting_Colder/3.wav', './data_spc/Wav/Scientists_Observing_Neptune_Say_the_Planet_Is_Getting_Colder/24.wav', './data_spc/Wav/Scientists_Observing_Neptune_Say_the_Planet_Is_Getting_Colder/32.wav', './data_spc/Wav/Scientists_Observing_Neptune_Say_the_Planet_Is_Getting_Colder/2.wav', './data_spc/Wav/Scientists_Observing_Neptune_Say_the_Planet_Is_Getting_Colder/18.wav', './data_spc/Wav/Scientists_Observing_Neptune_Say_the_Planet_Is_Getting_Colder/12.wav', './data_spc/Wav/Scientists_Observing_Neptune_Say_the_Planet_Is_Getting_Colder/34.wav', './data_spc/Wav/Scientists_Observing_Neptune_Say_the_Planet_Is_Getting_Colder/8.wav', './data_spc/Wav/Scientists_Observing_Neptune_Say_the_Planet_Is_Getting_Colder/10.wav', './data_spc/Wav/Scientists_Observing_Neptune_Say_the_Planet_Is_Getting_Colder/15.wav', './data_spc/Wav/Scientists_Observing_Neptune_Say_the_Planet_Is_Getting_Colder/4.wav', './data_spc/Wav/Scientists_Observing_Neptune_Say_the_Planet_Is_Getting_Colder/31.wav', './data_spc/Wav/Scientists_Observing_Neptune_Say_the_Planet_Is_Getting_Colder/22.wav', './data_spc/Wav/Scientists_Observing_Neptune_Say_the_Planet_Is_Getting_Colder/6.wav', './data_spc/Wav/Scientists_Observing_Neptune_Say_the_Planet_Is_Getting_Colder/23.wav', './data_spc/Wav/Scientists_Observing_Neptune_Say_the_Planet_Is_Getting_Colder/33.wav', './data_spc/Wav/Scientists_Observing_Neptune_Say_the_Planet_Is_Getting_Colder/1.wav', './data_spc/Wav/Scientists_Observing_Neptune_Say_the_Planet_Is_Getting_Colder/28.wav', './data_spc/Wav/Scientists_Observing_Neptune_Say_the_Planet_Is_Getting_Colder/26.wav', './data_spc/Wav/Scientists_Observing_Neptune_Say_the_Planet_Is_Getting_Colder/19.wav', './data_spc/Wav/Scientists_Observing_Neptune_Say_the_Planet_Is_Getting_Colder/27.wav', './data_spc/Wav/Scientists_Observing_Neptune_Say_the_Planet_Is_Getting_Colder/30.wav', './data_spc/Wav/Scientists_Observing_Neptune_Say_the_Planet_Is_Getting_Colder/16.wav', './data_spc/Wav/Scientists_Observing_Neptune_Say_the_Planet_Is_Getting_Colder/25.wav', './data_spc/Wav/Scientists_Observing_Neptune_Say_the_Planet_Is_Getting_Colder/21.wav', './data_spc/Wav/Scientists_Observing_Neptune_Say_the_Planet_Is_Getting_Colder/9.wav', './data_spc/Wav/Scientists_Observing_Neptune_Say_the_Planet_Is_Getting_Colder/13.wav', './data_spc/Wav/Scientists_Observing_Neptune_Say_the_Planet_Is_Getting_Colder/7.wav', './data_spc/Wav/Scientists_Observing_Neptune_Say_the_Planet_Is_Getting_Colder/17.wav', './data_spc/Wav/Scientists_Observing_Neptune_Say_the_Planet_Is_Getting_Colder/5.wav', './data_spc/Wav/Scientists_Observing_Neptune_Say_the_Planet_Is_Getting_Colder/20.wav', './data_spc/Wav/Scientists_Observing_Neptune_Say_the_Planet_Is_Getting_Colder/11.wav', './data_spc/Wav/Scientists_Observing_Neptune_Say_the_Planet_Is_Getting_Colder/14.wav', './data_spc/Wav/Scientists_Observing_Neptune_Say_the_Planet_Is_Getting_Colder/29.wav', './data_spc/Wav/COVID_Arrives_in_One_of_the_Last_Places_Without_It/3.wav', './data_spc/Wav/COVID_Arrives_in_One_of_the_Last_Places_Without_It/24.wav', './data_spc/Wav/COVID_Arrives_in_One_of_the_Last_Places_Without_It/32.wav', './data_spc/Wav/COVID_Arrives_in_One_of_the_Last_Places_Without_It/39.wav', './data_spc/Wav/COVID_Arrives_in_One_of_the_Last_Places_Without_It/2.wav', './data_spc/Wav/COVID_Arrives_in_One_of_the_Last_Places_Without_It/18.wav', './data_spc/Wav/COVID_Arrives_in_One_of_the_Last_Places_Without_It/42.wav', './data_spc/Wav/COVID_Arrives_in_One_of_the_Last_Places_Without_It/12.wav', './data_spc/Wav/COVID_Arrives_in_One_of_the_Last_Places_Without_It/34.wav', './data_spc/Wav/COVID_Arrives_in_One_of_the_Last_Places_Without_It/8.wav', './data_spc/Wav/COVID_Arrives_in_One_of_the_Last_Places_Without_It/40.wav', './data_spc/Wav/COVID_Arrives_in_One_of_the_Last_Places_Without_It/10.wav', './data_spc/Wav/COVID_Arrives_in_One_of_the_Last_Places_Without_It/15.wav', './data_spc/Wav/COVID_Arrives_in_One_of_the_Last_Places_Without_It/4.wav', './data_spc/Wav/COVID_Arrives_in_One_of_the_Last_Places_Without_It/31.wav', './data_spc/Wav/COVID_Arrives_in_One_of_the_Last_Places_Without_It/22.wav', './data_spc/Wav/COVID_Arrives_in_One_of_the_Last_Places_Without_It/6.wav', './data_spc/Wav/COVID_Arrives_in_One_of_the_Last_Places_Without_It/23.wav', './data_spc/Wav/COVID_Arrives_in_One_of_the_Last_Places_Without_It/35.wav', './data_spc/Wav/COVID_Arrives_in_One_of_the_Last_Places_Without_It/33.wav', './data_spc/Wav/COVID_Arrives_in_One_of_the_Last_Places_Without_It/1.wav', './data_spc/Wav/COVID_Arrives_in_One_of_the_Last_Places_Without_It/28.wav', './data_spc/Wav/COVID_Arrives_in_One_of_the_Last_Places_Without_It/26.wav', './data_spc/Wav/COVID_Arrives_in_One_of_the_Last_Places_Without_It/37.wav', './data_spc/Wav/COVID_Arrives_in_One_of_the_Last_Places_Without_It/38.wav', './data_spc/Wav/COVID_Arrives_in_One_of_the_Last_Places_Without_It/41.wav', './data_spc/Wav/COVID_Arrives_in_One_of_the_Last_Places_Without_It/19.wav', './data_spc/Wav/COVID_Arrives_in_One_of_the_Last_Places_Without_It/36.wav', './data_spc/Wav/COVID_Arrives_in_One_of_the_Last_Places_Without_It/27.wav', './data_spc/Wav/COVID_Arrives_in_One_of_the_Last_Places_Without_It/30.wav', './data_spc/Wav/COVID_Arrives_in_One_of_the_Last_Places_Without_It/16.wav', './data_spc/Wav/COVID_Arrives_in_One_of_the_Last_Places_Without_It/25.wav', './data_spc/Wav/COVID_Arrives_in_One_of_the_Last_Places_Without_It/21.wav', './data_spc/Wav/COVID_Arrives_in_One_of_the_Last_Places_Without_It/9.wav', './data_spc/Wav/COVID_Arrives_in_One_of_the_Last_Places_Without_It/13.wav', './data_spc/Wav/COVID_Arrives_in_One_of_the_Last_Places_Without_It/7.wav', './data_spc/Wav/COVID_Arrives_in_One_of_the_Last_Places_Without_It/17.wav', './data_spc/Wav/COVID_Arrives_in_One_of_the_Last_Places_Without_It/5.wav', './data_spc/Wav/COVID_Arrives_in_One_of_the_Last_Places_Without_It/20.wav', './data_spc/Wav/COVID_Arrives_in_One_of_the_Last_Places_Without_It/11.wav', './data_spc/Wav/COVID_Arrives_in_One_of_the_Last_Places_Without_It/14.wav', './data_spc/Wav/COVID_Arrives_in_One_of_the_Last_Places_Without_It/29.wav', './data_spc/Wav/Technologies_Used_at_the_Beijing_Olympics/3.wav', './data_spc/Wav/Technologies_Used_at_the_Beijing_Olympics/24.wav', './data_spc/Wav/Technologies_Used_at_the_Beijing_Olympics/32.wav', './data_spc/Wav/Technologies_Used_at_the_Beijing_Olympics/2.wav', './data_spc/Wav/Technologies_Used_at_the_Beijing_Olympics/18.wav', './data_spc/Wav/Technologies_Used_at_the_Beijing_Olympics/12.wav', './data_spc/Wav/Technologies_Used_at_the_Beijing_Olympics/8.wav', './data_spc/Wav/Technologies_Used_at_the_Beijing_Olympics/10.wav', './data_spc/Wav/Technologies_Used_at_the_Beijing_Olympics/15.wav', './data_spc/Wav/Technologies_Used_at_the_Beijing_Olympics/4.wav', './data_spc/Wav/Technologies_Used_at_the_Beijing_Olympics/31.wav', './data_spc/Wav/Technologies_Used_at_the_Beijing_Olympics/22.wav', './data_spc/Wav/Technologies_Used_at_the_Beijing_Olympics/6.wav', './data_spc/Wav/Technologies_Used_at_the_Beijing_Olympics/23.wav', './data_spc/Wav/Technologies_Used_at_the_Beijing_Olympics/1.wav', './data_spc/Wav/Technologies_Used_at_the_Beijing_Olympics/28.wav', './data_spc/Wav/Technologies_Used_at_the_Beijing_Olympics/26.wav', './data_spc/Wav/Technologies_Used_at_the_Beijing_Olympics/19.wav', './data_spc/Wav/Technologies_Used_at_the_Beijing_Olympics/27.wav', './data_spc/Wav/Technologies_Used_at_the_Beijing_Olympics/30.wav', './data_spc/Wav/Technologies_Used_at_the_Beijing_Olympics/16.wav', './data_spc/Wav/Technologies_Used_at_the_Beijing_Olympics/25.wav', './data_spc/Wav/Technologies_Used_at_the_Beijing_Olympics/21.wav', './data_spc/Wav/Technologies_Used_at_the_Beijing_Olympics/9.wav', './data_spc/Wav/Technologies_Used_at_the_Beijing_Olympics/13.wav', './data_spc/Wav/Technologies_Used_at_the_Beijing_Olympics/7.wav', './data_spc/Wav/Technologies_Used_at_the_Beijing_Olympics/17.wav', './data_spc/Wav/Technologies_Used_at_the_Beijing_Olympics/5.wav', './data_spc/Wav/Technologies_Used_at_the_Beijing_Olympics/20.wav', './data_spc/Wav/Technologies_Used_at_the_Beijing_Olympics/11.wav', './data_spc/Wav/Technologies_Used_at_the_Beijing_Olympics/14.wav', './data_spc/Wav/Technologies_Used_at_the_Beijing_Olympics/29.wav']\n",
            "403\n"
          ]
        }
      ],
      "source": [
        "# get data from github\n",
        "saveto = \"./data_spc/\"\n",
        "wavs = glob(\"{}/**/*.wav\".format(saveto), recursive=True) # get data audio from directory store\n",
        "\n",
        "print(wavs)\n",
        "print(len(wavs))\n",
        "\n",
        "\n",
        "# function create data for trainning model {audio: link_audio, text: informaiton_wav}\n",
        "def get_data(wavs, maxlen=50):\n",
        "    \"\"\" returns mapping of audio paths and transcription texts \"\"\"\n",
        "    data = []\n",
        "    for w in wavs:\n",
        "      xpath = w.strip().split(\"/\")\n",
        "      id = xpath[-2] + '/' + xpath[-1].split('.')[0]\n",
        "\n",
        "      dist_text = saveto + '/Text/' + id + '.txt'\n",
        "      # print(dist_text)\n",
        "      with open(dist_text,'r') as text:\n",
        "        txt = text.read()\n",
        "\n",
        "        if len(txt) < maxlen:\n",
        "\n",
        "            data.append({\"audio\": w, \"text\": txt})\n",
        "    return data\n"
      ]
    },
    {
      "cell_type": "markdown",
      "metadata": {
        "id": "hN2oDazYqyTk"
      },
      "source": [
        "## Preprocess the dataset"
      ]
    },
    {
      "cell_type": "code",
      "execution_count": null,
      "metadata": {
        "colab": {
          "base_uri": "https://localhost:8080/"
        },
        "id": "0ZSp0yvVqyTk",
        "outputId": "298ee96f-cec8-4b13-a2ed-2d34f78c05d5"
      },
      "outputs": [
        {
          "output_type": "stream",
          "name": "stdout",
          "text": [
            "[{'audio': './data_spc/Wav/Astronomers_Observe_Huge_Planet_Being_Formed/3.wav', 'text': 'The researchers used the Subaru Telescope in Hawaii and the Hubble Space Telescope to find and study the planet.'}, {'audio': './data_spc/Wav/Astronomers_Observe_Huge_Planet_Being_Formed/24.wav', 'text': \" If this core reaches several times Earth's mass, they begin gathering gas from the surrounding dust and gas.\"}, {'audio': './data_spc/Wav/Astronomers_Observe_Huge_Planet_Being_Formed/32.wav', 'text': 'ultimately improving our understanding of the universe, Guyon said.'}, {'audio': './data_spc/Wav/Astronomers_Observe_Huge_Planet_Being_Formed/2.wav', 'text': 'The planet is already nine times the mass of Jupiter.'}, {'audio': './data_spc/Wav/Astronomers_Observe_Huge_Planet_Being_Formed/18.wav', 'text': 'Its formation appears to be following a different process than the way planets usually form.'}, {'audio': './data_spc/Wav/Astronomers_Observe_Huge_Planet_Being_Formed/12.wav', 'text': \"An image of the star appeared in the 2021 film Don't Look Up.\"}, {'audio': './data_spc/Wav/Astronomers_Observe_Huge_Planet_Being_Formed/8.wav', 'text': 'We think it is still very early on in its birthing process, said astrophysicist Thayne Currie of the Subaru Telescope and the NASA-Ames Research Center.'}, {'audio': './data_spc/Wav/Astronomers_Observe_Huge_Planet_Being_Formed/10.wav', 'text': 'Evidence suggests that this is the earliest stage of formation ever observed for a gas giant, he added.'}, {'audio': './data_spc/Wav/Astronomers_Observe_Huge_Planet_Being_Formed/15.wav', 'text': 'Planets in the process of formation called protoplanets have been observed around only one other star.'}, {'audio': './data_spc/Wav/Astronomers_Observe_Huge_Planet_Being_Formed/4.wav', 'text': 'It is a gas giant orbiting an unusually far away young star. '}, {'audio': './data_spc/Wav/Astronomers_Observe_Huge_Planet_Being_Formed/31.wav', 'text': 'New astronomical observations continuously challenge our current theories'}, {'audio': './data_spc/Wav/Astronomers_Observe_Huge_Planet_Being_Formed/22.wav', 'text': 'He noted that gas giants go through this process before the solid core is large enough to start layering gases.'}, {'audio': './data_spc/Wav/Astronomers_Observe_Huge_Planet_Being_Formed/6.wav', 'text': 'They are made up of hydrogen and helium. '}, {'audio': './data_spc/Wav/Astronomers_Observe_Huge_Planet_Being_Formed/23.wav', 'text': 'In this situation, protoplanets in the area surrounding a young star slowly grow out of dust- to large rock-sized solid objects.'}, {'audio': './data_spc/Wav/Astronomers_Observe_Huge_Planet_Being_Formed/33.wav', 'text': 'He added, Planet formation is very complex and messy, with many surprises still ahead. I’m Jonathan Evans.'}, {'audio': './data_spc/Wav/Astronomers_Observe_Huge_Planet_Being_Formed/1.wav', 'text': 'Scientists have recently observed a large planet at an early stage of formation'}, {'audio': './data_spc/Wav/Astronomers_Observe_Huge_Planet_Being_Formed/28.wav', 'text': 'Gravity then causes it to break up into one or more huge masses that form into planets.'}, {'audio': './data_spc/Wav/Astronomers_Observe_Huge_Planet_Being_Formed/26.wav', 'text': ' so this discovery challenges our understanding of planet formation, Guyon said.'}, {'audio': './data_spc/Wav/Astronomers_Observe_Huge_Planet_Being_Formed/19.wav', 'text': 'Olivier Guyon is an astronomer with the Subaru Telescope and the University of Arizona. '}, {'audio': './data_spc/Wav/Astronomers_Observe_Huge_Planet_Being_Formed/27.wav', 'text': 'The researchers believe AB Aur b is forming in a situation in which the area around the star cools.'}, {'audio': './data_spc/Wav/Astronomers_Observe_Huge_Planet_Being_Formed/30.wav', 'text': 'It is about 2 million years old very young compared to our 4.5 billion year old sun.'}, {'audio': './data_spc/Wav/Astronomers_Observe_Huge_Planet_Being_Formed/16.wav', 'text': 'Almost all known exoplanets have orbits around their stars within the distance that separates our sun and its most faraway planet, Neptune.'}, {'audio': './data_spc/Wav/Astronomers_Observe_Huge_Planet_Being_Formed/25.wav', 'text': 'This process cannot form giant planets at large orbital distance'}, {'audio': './data_spc/Wav/Astronomers_Observe_Huge_Planet_Being_Formed/21.wav', 'text': 'Guyon said the usual thinking is that most planets form by the slow growth of solids onto a rocky core.'}, {'audio': './data_spc/Wav/Astronomers_Observe_Huge_Planet_Being_Formed/9.wav', 'text': 'He is the lead writer of the study that appeared recently in the publication Nature Astronomy.'}, {'audio': './data_spc/Wav/Astronomers_Observe_Huge_Planet_Being_Formed/13.wav', 'text': 'About 5,000 planets beyond our solar system, or exoplanets, have been identified.'}, {'audio': './data_spc/Wav/Astronomers_Observe_Huge_Planet_Being_Formed/7.wav', 'text': 'Those gases surround a smaller solid core, the innermost part of a planet.'}, {'audio': './data_spc/Wav/Astronomers_Observe_Huge_Planet_Being_Formed/17.wav', 'text': \"But this planet orbits three times as far as Neptune from the sun and 93 times Earth's distance from the sun.\"}, {'audio': './data_spc/Wav/Astronomers_Observe_Huge_Planet_Being_Formed/5.wav', 'text': \"Gas giants are planets, like our solar system's Jupiter and Saturn.\"}, {'audio': './data_spc/Wav/Astronomers_Observe_Huge_Planet_Being_Formed/20.wav', 'text': 'He is a co-writer of the planet study.'}, {'audio': './data_spc/Wav/Astronomers_Observe_Huge_Planet_Being_Formed/11.wav', 'text': 'The planet surrounds a star called AB Aurigae, about 9.5 trillion kilometers from Earth.'}, {'audio': './data_spc/Wav/Astronomers_Observe_Huge_Planet_Being_Formed/14.wav', 'text': 'This one, called AB Aur b, is among the largest.'}, {'audio': './data_spc/Wav/Astronomers_Observe_Huge_Planet_Being_Formed/29.wav', 'text': 'The star AB Aurigae is about 2.4 times bigger than our sun and almost 60 times brighter.'}, {'audio': './data_spc/Wav/New_Space_Vehicle_Built_to_Explore_the_Moon/3.wav', 'text': 'The explorer, or rover, is called FLEX.'}, {'audio': './data_spc/Wav/New_Space_Vehicle_Built_to_Explore_the_Moon/24.wav', 'text': 'With its sun-powered batteries fully charged, FLEX is designed to operate continuously for up to eight hours.'}, {'audio': './data_spc/Wav/New_Space_Vehicle_Built_to_Explore_the_Moon/2.wav', 'text': 'California-based Venturi Astrolab uncovered its working model of the vehicle last week.'}, {'audio': './data_spc/Wav/New_Space_Vehicle_Built_to_Explore_the_Moon/18.wav', 'text': 'Astrolab chief Jaret Matthews says FLEX can move just as fast.'}, {'audio': './data_spc/Wav/New_Space_Vehicle_Built_to_Explore_the_Moon/12.wav', 'text': 'He said in a video released by Astrolab that rovers used during the Apollo missions were built purely for exploration purposes.'}, {'audio': './data_spc/Wav/New_Space_Vehicle_Built_to_Explore_the_Moon/8.wav', 'text': 'It also calls for establishing a long-term base on the moon that could one day launch astronauts to Mars.'}, {'audio': './data_spc/Wav/New_Space_Vehicle_Built_to_Explore_the_Moon/10.wav', 'text': 'Apollo 17 was the last of six American manned missions to the moon.'}, {'audio': './data_spc/Wav/New_Space_Vehicle_Built_to_Explore_the_Moon/15.wav', 'text': 'You also need to transition the equipment that keeps you alive and that enables the activities.'}, {'audio': './data_spc/Wav/New_Space_Vehicle_Built_to_Explore_the_Moon/4.wav', 'text': 'Astrolab officials say the four-wheeled rover was designed to be sent to the moon by the American space agency NASA.'}, {'audio': './data_spc/Wav/New_Space_Vehicle_Built_to_Explore_the_Moon/22.wav', 'text': 'With FLEX, astronauts stand in the back and control the vehicle with a joystick device.'}, {'audio': './data_spc/Wav/New_Space_Vehicle_Built_to_Explore_the_Moon/6.wav', 'text': 'If NASA chooses to use the vehicle, it will become part of the Artemis program.'}, {'audio': './data_spc/Wav/New_Space_Vehicle_Built_to_Explore_the_Moon/23.wav', 'text': 'The vehicle weighs about 500 kilograms, but can carry loads up to 1,500, Astrolab officials say.'}, {'audio': './data_spc/Wav/New_Space_Vehicle_Built_to_Explore_the_Moon/1.wav', 'text': 'An American company has presented a new space vehicle built to explore the moon.'}, {'audio': './data_spc/Wav/New_Space_Vehicle_Built_to_Explore_the_Moon/26.wav', 'text': 'Video of the test drive showed FLEX driving over sand and rocks in the California desert near Death Valley National Park.'}, {'audio': './data_spc/Wav/New_Space_Vehicle_Built_to_Explore_the_Moon/19.wav', 'text': 'He told Reuters such a speed is kind of a practical limit for the moon, where gravity is one-sixth that of Earth.'}, {'audio': './data_spc/Wav/New_Space_Vehicle_Built_to_Explore_the_Moon/27.wav', 'text': 'After the test, Hadfield said it was huge fun driving the vehicle.'}, {'audio': './data_spc/Wav/New_Space_Vehicle_Built_to_Explore_the_Moon/16.wav', 'text': 'Hadfield added: When we settle somewhere, we don’t just need to get people from one place to another, but we need to move hardware, cargo, life support equipment and more.'}, {'audio': './data_spc/Wav/New_Space_Vehicle_Built_to_Explore_the_Moon/25.wav', 'text': 'Matthews said the vehicle’s energy storing system can survive the extreme cold of a lunar night and the rover can operate in total darkness.'}, {'audio': './data_spc/Wav/New_Space_Vehicle_Built_to_Explore_the_Moon/21.wav', 'text': 'Vehicles designed for the Apollo missions operated with astronauts sitting and driving the vehicles like a car.'}, {'audio': './data_spc/Wav/New_Space_Vehicle_Built_to_Explore_the_Moon/9.wav', 'text': 'FLEX could become the first astronaut-transporting vehicle to visit the moon since NASA’s Apollo 17 mission in 1972.'}, {'audio': './data_spc/Wav/New_Space_Vehicle_Built_to_Explore_the_Moon/13.wav', 'text': 'But, Hadfield added, FLEX was designed to support astronauts landing on the moon for long-term stays.'}, {'audio': './data_spc/Wav/New_Space_Vehicle_Built_to_Explore_the_Moon/7.wav', 'text': 'That program aims to return humans to the moon as early as 2025.'}, {'audio': './data_spc/Wav/New_Space_Vehicle_Built_to_Explore_the_Moon/17.wav', 'text': 'Apollo 17’s rover set a moon speed record of 17.7 kilometers per hour.'}, {'audio': './data_spc/Wav/New_Space_Vehicle_Built_to_Explore_the_Moon/5.wav', 'text': 'FLEX was developed to transport astronauts and cargo and support a series of lunar activities and experiments.'}, {'audio': './data_spc/Wav/New_Space_Vehicle_Built_to_Explore_the_Moon/20.wav', 'text': \"Matthews is a former rover engineer for NASA's Jet Propulsion Laboratory.\"}, {'audio': './data_spc/Wav/New_Space_Vehicle_Built_to_Explore_the_Moon/11.wav', 'text': 'Retired Canadian astronaut Chris Hadfield recently test drove the vehicle.'}, {'audio': './data_spc/Wav/New_Space_Vehicle_Built_to_Explore_the_Moon/14.wav', 'text': 'Once you get there, you’ve got to be able to move things around, he said.'}, {'audio': './data_spc/Wav/NASA_Looks_to_Build_Huge_Telescopes_with_Fluid_Materials/3.wav', 'text': 'Bigger telescopes often lead to big, new discoveries.'}, {'audio': './data_spc/Wav/NASA_Looks_to_Build_Huge_Telescopes_with_Fluid_Materials/24.wav', 'text': 'In one test, scientists combined water with chemical mixes in search of a good material to make telescope lenses.'}, {'audio': './data_spc/Wav/NASA_Looks_to_Build_Huge_Telescopes_with_Fluid_Materials/32.wav', 'text': 'He said the team used pumps to push different oil materials into a circular frame.'}, {'audio': './data_spc/Wav/NASA_Looks_to_Build_Huge_Telescopes_with_Fluid_Materials/39.wav', 'text': 'Stibbe will attempt to use polymer material, like in the Technion laboratory experiment, to create lenses in full microgravity.'}, {'audio': './data_spc/Wav/NASA_Looks_to_Build_Huge_Telescopes_with_Fluid_Materials/2.wav', 'text': 'Such devices could permit astronomers to examine older and more distant space objects.'}, {'audio': './data_spc/Wav/NASA_Looks_to_Build_Huge_Telescopes_with_Fluid_Materials/18.wav', 'text': 'It is a joint project involving NASA’s Ames Research Center in California, the Goddard Space Flight Center in Maryland and the Israel Institute of Technology, known as Technion.'}, {'audio': './data_spc/Wav/NASA_Looks_to_Build_Huge_Telescopes_with_Fluid_Materials/42.wav', 'text': 'It feels a bit like making history.'}, {'audio': './data_spc/Wav/NASA_Looks_to_Build_Huge_Telescopes_with_Fluid_Materials/12.wav', 'text': 'NASA notes in a description of its experiments that all liquids contain a force that holds them together at their surface.'}, {'audio': './data_spc/Wav/NASA_Looks_to_Build_Huge_Telescopes_with_Fluid_Materials/34.wav', 'text': 'The experiment produced hardened lenses.'}, {'audio': './data_spc/Wav/NASA_Looks_to_Build_Huge_Telescopes_with_Fluid_Materials/8.wav', 'text': 'One way to do this is to build lenses using fluid materials.'}, {'audio': './data_spc/Wav/NASA_Looks_to_Build_Huge_Telescopes_with_Fluid_Materials/40.wav', 'text': ' The lenses will then be transported back to Earth for close examination.'}, {'audio': './data_spc/Wav/NASA_Looks_to_Build_Huge_Telescopes_with_Fluid_Materials/10.wav', 'text': 'The goal is to establish a method that could be used by astronauts in space to create lenses after transporting the necessary materials.'}, {'audio': './data_spc/Wav/NASA_Looks_to_Build_Huge_Telescopes_with_Fluid_Materials/15.wav', 'text': 'But when the drops get bigger, the surface tension is broken and the drop’s circular shape collapses.'}, {'audio': './data_spc/Wav/NASA_Looks_to_Build_Huge_Telescopes_with_Fluid_Materials/4.wav', 'text': 'They can reach deeper into space, finding and collecting light at far greater distances than smaller equipment.'}, {'audio': './data_spc/Wav/NASA_Looks_to_Build_Huge_Telescopes_with_Fluid_Materials/31.wav', 'text': 'Moran Bercovici, a professor of Mechanical Engineering at Technion, helped lead the experiments.'}, {'audio': './data_spc/Wav/NASA_Looks_to_Build_Huge_Telescopes_with_Fluid_Materials/22.wav', 'text': 'So if we make them in space, they could be used to build telescopes that are dramatically bigger than was previously thought possible.'}, {'audio': './data_spc/Wav/NASA_Looks_to_Build_Huge_Telescopes_with_Fluid_Materials/6.wav', 'text': 'It aims to build on the work of past telescopes, while gathering in-depth information on the early development of the universe.'}, {'audio': './data_spc/Wav/NASA_Looks_to_Build_Huge_Telescopes_with_Fluid_Materials/23.wav', 'text': 'FLUTE team members have carried out experiments on the ground and in the air to test different liquid materials.'}, {'audio': './data_spc/Wav/NASA_Looks_to_Build_Huge_Telescopes_with_Fluid_Materials/35.wav', 'text': ' Bercovici and his team plan to complete more experiments in the coming months to test how different fluids keep their shape in microgravity.'}, {'audio': './data_spc/Wav/NASA_Looks_to_Build_Huge_Telescopes_with_Fluid_Materials/33.wav', 'text': ' In a few seconds, Bercovici said, we were able to create a free-standing liquid lens until the plane lifted upwards again and gravity kicked in and the oils oozed out.'}, {'audio': './data_spc/Wav/NASA_Looks_to_Build_Huge_Telescopes_with_Fluid_Materials/1.wav', 'text': 'The American space agency NASA is experimenting with ways to build huge telescopes with fluid materials.'}, {'audio': './data_spc/Wav/NASA_Looks_to_Build_Huge_Telescopes_with_Fluid_Materials/28.wav', 'text': 'In December, the FLUTE team carried out experiments on two zero gravity airplane flights.'}, {'audio': './data_spc/Wav/NASA_Looks_to_Build_Huge_Telescopes_with_Fluid_Materials/26.wav', 'text': 'Researchers involved in the experiments said they were able to easily create lenses in a container.'}, {'audio': './data_spc/Wav/NASA_Looks_to_Build_Huge_Telescopes_with_Fluid_Materials/37.wav', 'text': 'It is to be completed by private astronaut Eytan Stibbe, the second Israeli to go to space.'}, {'audio': './data_spc/Wav/NASA_Looks_to_Build_Huge_Telescopes_with_Fluid_Materials/38.wav', 'text': 'He launched to the ISS on April 8, along with three other private astronauts.'}, {'audio': './data_spc/Wav/NASA_Looks_to_Build_Huge_Telescopes_with_Fluid_Materials/41.wav', 'text': 'Balaban said: If our (ISS) experiment is successful, it will be the first time an optical component is made in space.'}, {'audio': './data_spc/Wav/NASA_Looks_to_Build_Huge_Telescopes_with_Fluid_Materials/19.wav', 'text': 'FLUTE’s main investigator is Edward Balaban.'}, {'audio': './data_spc/Wav/NASA_Looks_to_Build_Huge_Telescopes_with_Fluid_Materials/36.wav', 'text': 'One FLUTE project experiment will be carried out aboard the International Space Station (ISS).'}, {'audio': './data_spc/Wav/NASA_Looks_to_Build_Huge_Telescopes_with_Fluid_Materials/27.wav', 'text': 'They reported that the resulting lenses had surface qualities similar to, or even better than, lenses produced with costly equipment.'}, {'audio': './data_spc/Wav/NASA_Looks_to_Build_Huge_Telescopes_with_Fluid_Materials/30.wav', 'text': 'The team had 50 chances to reach 15 to 20 second periods of microgravity for testing.'}, {'audio': './data_spc/Wav/NASA_Looks_to_Build_Huge_Telescopes_with_Fluid_Materials/16.wav', 'text': 'In space, the microgravity environment causes drops of water and other fluids to form perfect circles and stay that way.'}, {'audio': './data_spc/Wav/NASA_Looks_to_Build_Huge_Telescopes_with_Fluid_Materials/25.wav', 'text': 'The tests simulated a weightless environment.'}, {'audio': './data_spc/Wav/NASA_Looks_to_Build_Huge_Telescopes_with_Fluid_Materials/21.wav', 'text': 'In microgravity, liquids take on shapes that are useful for making lenses and mirrors, Balaban said.'}, {'audio': './data_spc/Wav/NASA_Looks_to_Build_Huge_Telescopes_with_Fluid_Materials/9.wav', 'text': 'NASA has been carrying out experiments to see if fluids can be used to create telescope lenses in microgravity conditions.'}, {'audio': './data_spc/Wav/NASA_Looks_to_Build_Huge_Telescopes_with_Fluid_Materials/13.wav', 'text': 'This force is called surface tension.'}, {'audio': './data_spc/Wav/NASA_Looks_to_Build_Huge_Telescopes_with_Fluid_Materials/7.wav', 'text': 'But NASA is seeking to greatly expand the size of its telescopes, up to 100 times over ones currently in use.'}, {'audio': './data_spc/Wav/NASA_Looks_to_Build_Huge_Telescopes_with_Fluid_Materials/17.wav', 'text': 'One experiment is called the Fluidic Telescope Experiment, or FLUTE.'}, {'audio': './data_spc/Wav/NASA_Looks_to_Build_Huge_Telescopes_with_Fluid_Materials/5.wav', 'text': 'In January, NASA announced the deployment of its largest and most powerful telescope ever built, the James Webb Space Telescope.'}, {'audio': './data_spc/Wav/NASA_Looks_to_Build_Huge_Telescopes_with_Fluid_Materials/20.wav', 'text': ' He said in a statement the way liquids behave in microgravity can be a good fit for producing large telescopes or other optical elements.'}, {'audio': './data_spc/Wav/NASA_Looks_to_Build_Huge_Telescopes_with_Fluid_Materials/11.wav', 'text': 'Much of the research centers on exploring how liquids behave in microgravity.'}, {'audio': './data_spc/Wav/NASA_Looks_to_Build_Huge_Telescopes_with_Fluid_Materials/14.wav', 'text': 'On Earth, surface tension can keep very small drops of water together, in a perfect circle.'}, {'audio': './data_spc/Wav/NASA_Looks_to_Build_Huge_Telescopes_with_Fluid_Materials/29.wav', 'text': 'Such flights involve an airplane climbing and falling at different altitudes in an effort to produce brief microgravity conditions.'}, {'audio': './data_spc/Wav/How_to_Grow_Eat_Sunflowers/3.wav', 'text': 'There is evidence they were used for food and for medicine by Native Americans beginning around 1,000 B.C.'}, {'audio': './data_spc/Wav/How_to_Grow_Eat_Sunflowers/24.wav', 'text': 'Mix a large amount of compost into the soil where the plant will grow.'}, {'audio': './data_spc/Wav/How_to_Grow_Eat_Sunflowers/32.wav', 'text': 'Some kinds of sunflowers can grow up to three meters tall.'}, {'audio': './data_spc/Wav/How_to_Grow_Eat_Sunflowers/39.wav', 'text': 'The backs of the flowers will be brown. '}, {'audio': './data_spc/Wav/How_to_Grow_Eat_Sunflowers/45.wav', 'text': ' Look through the seeds and remove parts of the plant that came off'}, {'audio': './data_spc/Wav/How_to_Grow_Eat_Sunflowers/2.wav', 'text': 'They have a long history in North America.'}, {'audio': './data_spc/Wav/How_to_Grow_Eat_Sunflowers/18.wav', 'text': ' Keep the soil wet, but not too wet, until the seeds begin to grow.'}, {'audio': './data_spc/Wav/How_to_Grow_Eat_Sunflowers/42.wav', 'text': 'Then, put them into a bag or container to avoid spilling the seeds, which will be loose.'}, {'audio': './data_spc/Wav/How_to_Grow_Eat_Sunflowers/12.wav', 'text': 'Gardening expert and writer Jessica Damiano recently wrote a story about growing sunflowers for The Associated Press.'}, {'audio': './data_spc/Wav/How_to_Grow_Eat_Sunflowers/48.wav', 'text': 'Sunflower seeds may be eaten cooked or uncooked.'}, {'audio': './data_spc/Wav/How_to_Grow_Eat_Sunflowers/34.wav', 'text': ' So, it is best to plant them against a structure that will protect them from the wind'}, {'audio': './data_spc/Wav/How_to_Grow_Eat_Sunflowers/8.wav', 'text': 'The plant has increasingly become popular on social media.'}, {'audio': './data_spc/Wav/How_to_Grow_Eat_Sunflowers/40.wav', 'text': ' The seeds will start coming out of the head.'}, {'audio': './data_spc/Wav/How_to_Grow_Eat_Sunflowers/10.wav', 'text': 'The photos are called sunflower selfies.'}, {'audio': './data_spc/Wav/How_to_Grow_Eat_Sunflowers/15.wav', 'text': 'If you start growing sunflower from seeds, put them in room-temperature water for 2-8 hours before planting to start the growing process. '}, {'audio': './data_spc/Wav/How_to_Grow_Eat_Sunflowers/54.wav', 'text': 'Let them dry and then roast them in the oven.'}, {'audio': './data_spc/Wav/How_to_Grow_Eat_Sunflowers/43.wav', 'text': 'Remove the seeds by rubbing flowers with your hands or a hard brush. '}, {'audio': './data_spc/Wav/How_to_Grow_Eat_Sunflowers/4.wav', 'text': 'The seeds from sunflowers were likely brought to Europe by Spanish explorers around the late 16th century. '}, {'audio': './data_spc/Wav/How_to_Grow_Eat_Sunflowers/50.wav', 'text': 'Set the temperature to 165 degrees Celsius'}, {'audio': './data_spc/Wav/How_to_Grow_Eat_Sunflowers/53.wav', 'text': 'To make salted seeds, boil them in hot salted water for 90 minutes to two hours.'}, {'audio': './data_spc/Wav/How_to_Grow_Eat_Sunflowers/31.wav', 'text': 'If compost was not added during the planting process, provide nutrients through a slow-release, all-purpose fertilizer one or two times during the growing season.'}, {'audio': './data_spc/Wav/How_to_Grow_Eat_Sunflowers/22.wav', 'text': 'So, before planting, it is important to loosen the soil'}, {'audio': './data_spc/Wav/How_to_Grow_Eat_Sunflowers/6.wav', 'text': 'Today, Ukraine is the world’s leading producer of the plants. '}, {'audio': './data_spc/Wav/How_to_Grow_Eat_Sunflowers/46.wav', 'text': 'Wash the seeds with water.'}, {'audio': './data_spc/Wav/How_to_Grow_Eat_Sunflowers/44.wav', 'text': 'Do this over a container. '}, {'audio': './data_spc/Wav/How_to_Grow_Eat_Sunflowers/49.wav', 'text': 'To roast the seeds, you need an oven.'}, {'audio': './data_spc/Wav/How_to_Grow_Eat_Sunflowers/51.wav', 'text': 'Once the oven is heated, cook the seeds until they are brown.'}, {'audio': './data_spc/Wav/How_to_Grow_Eat_Sunflowers/23.wav', 'text': ' Dig at least one third of a meter down and remove any rocks.'}, {'audio': './data_spc/Wav/How_to_Grow_Eat_Sunflowers/35.wav', 'text': 'You can also tie them to something tall for support.'}, {'audio': './data_spc/Wav/How_to_Grow_Eat_Sunflowers/33.wav', 'text': 'These kinds of sunflowers may require protection from strong winds.'}, {'audio': './data_spc/Wav/How_to_Grow_Eat_Sunflowers/1.wav', 'text': 'Sunflowers are huge plants with bright yellow flowers.'}, {'audio': './data_spc/Wav/How_to_Grow_Eat_Sunflowers/28.wav', 'text': 'Pay attention to the amount of rainfall your area receives each week.'}, {'audio': './data_spc/Wav/How_to_Grow_Eat_Sunflowers/26.wav', 'text': 'Water the plants when the soil dries. '}, {'audio': './data_spc/Wav/How_to_Grow_Eat_Sunflowers/52.wav', 'text': ' The process takes anywhere from 15 to 30 minutes. '}, {'audio': './data_spc/Wav/How_to_Grow_Eat_Sunflowers/37.wav', 'text': ' Put them in a container of water and enjoy their brightness and beauty.'}, {'audio': './data_spc/Wav/How_to_Grow_Eat_Sunflowers/38.wav', 'text': 'To gather the seeds, wait until the plants die back and the flowers start to fall at the end of the season. '}, {'audio': './data_spc/Wav/How_to_Grow_Eat_Sunflowers/41.wav', 'text': 'Cut the flowers off the plants.'}, {'audio': './data_spc/Wav/How_to_Grow_Eat_Sunflowers/19.wav', 'text': 'Sunflower plants can be moved outdoors when the danger of frost has passed in your area.'}, {'audio': './data_spc/Wav/How_to_Grow_Eat_Sunflowers/36.wav', 'text': 'When the flowers open, you can cut them and bring them inside.'}, {'audio': './data_spc/Wav/How_to_Grow_Eat_Sunflowers/27.wav', 'text': 'Aim to provide about 2.5 centimeters of water a week.'}, {'audio': './data_spc/Wav/How_to_Grow_Eat_Sunflowers/30.wav', 'text': 'The sunflowers may not need additional nutrients if they were planted with compost.'}, {'audio': './data_spc/Wav/How_to_Grow_Eat_Sunflowers/16.wav', 'text': 'Plant each seed into dirt 2.5 centimeters deep and 15 to 30 centimeters apart.'}, {'audio': './data_spc/Wav/How_to_Grow_Eat_Sunflowers/25.wav', 'text': 'Compost provides important, lasting nutrients that will help the plants all season long.'}, {'audio': './data_spc/Wav/How_to_Grow_Eat_Sunflowers/21.wav', 'text': 'As the plants grow, they will develop long roots that work their way deep into the ground.'}, {'audio': './data_spc/Wav/How_to_Grow_Eat_Sunflowers/9.wav', 'text': 'That is because users enjoy taking pictures of themselves in bright fields of sunflowers.'}, {'audio': './data_spc/Wav/How_to_Grow_Eat_Sunflowers/13.wav', 'text': 'It is easy to grow your own sunflowers, she writes.'}, {'audio': './data_spc/Wav/How_to_Grow_Eat_Sunflowers/7.wav', 'text': 'Sunflowers are grown for their seeds and to make oil.'}, {'audio': './data_spc/Wav/How_to_Grow_Eat_Sunflowers/17.wav', 'text': 'Plant them after the danger of frost has passed or start indoors three weeks before your last frost date.'}, {'audio': './data_spc/Wav/How_to_Grow_Eat_Sunflowers/5.wav', 'text': ' Over time, they found their way to Eastern Europe.'}, {'audio': './data_spc/Wav/How_to_Grow_Eat_Sunflowers/20.wav', 'text': 'Choose a place outside that will provide the plants with at least 6-8 hours of direct sunlight each day.'}, {'audio': './data_spc/Wav/How_to_Grow_Eat_Sunflowers/11.wav', 'text': 'But in recent months, sunflower images are appearing on social media for a different reason: to show support for Ukraine following Russia’s invasion.'}, {'audio': './data_spc/Wav/How_to_Grow_Eat_Sunflowers/14.wav', 'text': 'Small versions of the plants can even be grown in containers.'}, {'audio': './data_spc/Wav/How_to_Grow_Eat_Sunflowers/47.wav', 'text': 'Wash the seeds with water.'}, {'audio': './data_spc/Wav/How_to_Grow_Eat_Sunflowers/29.wav', 'text': 'A five-centimeter layer of mulch will help the soil hold water and reduce competition from unwanted plants.'}, {'audio': './data_spc/Wav/Robotic_Boat_to_Help_Measure_Sea_Effects_of_Tonga_Volcano/3.wav', 'text': 'The explosion, or eruption, of the Hunga Tonga Hunga Ha’apai volcano was among the world’s largest in the past 30 years.'}, {'audio': './data_spc/Wav/Robotic_Boat_to_Help_Measure_Sea_Effects_of_Tonga_Volcano/24.wav', 'text': 'The researchers will also use a robotic boat to collect environmental data and carry out detailed mapping operations of affected areas.'}, {'audio': './data_spc/Wav/Robotic_Boat_to_Help_Measure_Sea_Effects_of_Tonga_Volcano/2.wav', 'text': 'As part of the project, the team will use a robotic boat to help create a detailed map of the sea floor.'}, {'audio': './data_spc/Wav/Robotic_Boat_to_Help_Measure_Sea_Effects_of_Tonga_Volcano/18.wav', 'text': 'This means the explosion likely affected ocean life in an area of at least 8,000 square kilometers.'}, {'audio': './data_spc/Wav/Robotic_Boat_to_Help_Measure_Sea_Effects_of_Tonga_Volcano/12.wav', 'text': 'The leader of the project is Mike Williams, the chief ocean scientist for NIWA.'}, {'audio': './data_spc/Wav/Robotic_Boat_to_Help_Measure_Sea_Effects_of_Tonga_Volcano/8.wav', 'text': 'Tonga’s government said the effects of the explosion were felt as far away as South America.'}, {'audio': './data_spc/Wav/Robotic_Boat_to_Help_Measure_Sea_Effects_of_Tonga_Volcano/10.wav', 'text': 'The project is a joint effort between New Zealand’s National Institute of Water and Atmospheric Research (NIWA) and Japan’s non-profit Nippon Foundation.'}, {'audio': './data_spc/Wav/Robotic_Boat_to_Help_Measure_Sea_Effects_of_Tonga_Volcano/15.wav', 'text': \"But now none of it is and the neighboring islands of Hunga Tonga and Hunga Ha'apai were reduced in size, Williams said.\"}, {'audio': './data_spc/Wav/Robotic_Boat_to_Help_Measure_Sea_Effects_of_Tonga_Volcano/4.wav', 'text': 'The eruption on the South Pacific island nation sent smoke and gas shooting 30 kilometers into the air.'}, {'audio': './data_spc/Wav/Robotic_Boat_to_Help_Measure_Sea_Effects_of_Tonga_Volcano/22.wav', 'text': ' This should help the team see how debris from the volcano has affected sea life in the area.'}, {'audio': './data_spc/Wav/Robotic_Boat_to_Help_Measure_Sea_Effects_of_Tonga_Volcano/6.wav', 'text': 'Some of the waves were up to 15 meters high, Reuters news agency reported.'}, {'audio': './data_spc/Wav/Robotic_Boat_to_Help_Measure_Sea_Effects_of_Tonga_Volcano/23.wav', 'text': 'The team will travel to Tongo aboard a NIWA research ship and will spend a little over two weeks in the area.'}, {'audio': './data_spc/Wav/Robotic_Boat_to_Help_Measure_Sea_Effects_of_Tonga_Volcano/1.wav', 'text': 'A scientific team is headed to Tonga to measure the effects of January’s undersea volcano explosion on the surrounding ocean.'}, {'audio': './data_spc/Wav/Robotic_Boat_to_Help_Measure_Sea_Effects_of_Tonga_Volcano/28.wav', 'text': 'Ben Simpson is the head of SEA-KIT International.'}, {'audio': './data_spc/Wav/Robotic_Boat_to_Help_Measure_Sea_Effects_of_Tonga_Volcano/26.wav', 'text': 'The controllers are with SEA-KIT International, the British company that built it.'}, {'audio': './data_spc/Wav/Robotic_Boat_to_Help_Measure_Sea_Effects_of_Tonga_Volcano/19.wav', 'text': 'The scientists will gather underwater sound data from devices known as echosounders.'}, {'audio': './data_spc/Wav/Robotic_Boat_to_Help_Measure_Sea_Effects_of_Tonga_Volcano/27.wav', 'text': 'The Maxlimer is set to keep surveying the area for up to 30 days.'}, {'audio': './data_spc/Wav/Robotic_Boat_to_Help_Measure_Sea_Effects_of_Tonga_Volcano/30.wav', 'text': 'Simpson noted that the Maxlimer needs no crew and uses less than 2 percent of the fuel needed for most research ships.'}, {'audio': './data_spc/Wav/Robotic_Boat_to_Help_Measure_Sea_Effects_of_Tonga_Volcano/16.wav', 'text': 'He added that the team expects to find similarly dramatic changes when mapping underwater areas.'}, {'audio': './data_spc/Wav/Robotic_Boat_to_Help_Measure_Sea_Effects_of_Tonga_Volcano/25.wav', 'text': 'The boat, called Maxlimer, will be guided by controllers in Britain.'}, {'audio': './data_spc/Wav/Robotic_Boat_to_Help_Measure_Sea_Effects_of_Tonga_Volcano/21.wav', 'text': 'In an online video published on Facebook, Williams said the scientists will also deploy a video system that will survey wide areas of the seabed.'}, {'audio': './data_spc/Wav/Robotic_Boat_to_Help_Measure_Sea_Effects_of_Tonga_Volcano/9.wav', 'text': 'The team going to Tonga will use sound and video equipment and other scientific instruments to examine the undersea effects of the explosion.'}, {'audio': './data_spc/Wav/Robotic_Boat_to_Help_Measure_Sea_Effects_of_Tonga_Volcano/13.wav', 'text': ' He predicts the team will find widespread changes to the ocean floor and sea life in areas around Tonga.'}, {'audio': './data_spc/Wav/Robotic_Boat_to_Help_Measure_Sea_Effects_of_Tonga_Volcano/7.wav', 'text': 'The eruption and tsunamis led to at least three deaths in Tonga and destroyed numerous homes, as well as communications equipment.'}, {'audio': './data_spc/Wav/Robotic_Boat_to_Help_Measure_Sea_Effects_of_Tonga_Volcano/17.wav', 'text': 'Williams said the damage to undersea communication lines suggests the effects of the eruption stretched up to 50 kilometers from the volcano’s center.'}, {'audio': './data_spc/Wav/Robotic_Boat_to_Help_Measure_Sea_Effects_of_Tonga_Volcano/5.wav', 'text': ' It also created ocean waves, called tsunamis, that formed across the Pacific Ocean.'}, {'audio': './data_spc/Wav/Robotic_Boat_to_Help_Measure_Sea_Effects_of_Tonga_Volcano/20.wav', 'text': 'The equipment is designed to map the shape and structure of the underwater landscape, NIWA said.'}, {'audio': './data_spc/Wav/Robotic_Boat_to_Help_Measure_Sea_Effects_of_Tonga_Volcano/11.wav', 'text': 'The scientists will be surveying thousands of square kilometers of the seafloor and collecting video images of the eruption’s effects, said a recent press release by NIWA.'}, {'audio': './data_spc/Wav/Robotic_Boat_to_Help_Measure_Sea_Effects_of_Tonga_Volcano/14.wav', 'text': 'Before the eruption, much of the volcano was above water.'}, {'audio': './data_spc/Wav/Robotic_Boat_to_Help_Measure_Sea_Effects_of_Tonga_Volcano/29.wav', 'text': 'He said in a statement the Tonga mapping operation is a good project to demonstrate the benefits of using robotic surveying equipment in the ocean.'}, {'audio': './data_spc/Wav/Eight_Garden_Flowers_Worth_Revisiting/3.wav', 'text': 'At the time, the wonderfully light, but deeply sweet smell of heliotrope could be found in most American gardens.'}, {'audio': './data_spc/Wav/Eight_Garden_Flowers_Worth_Revisiting/24.wav', 'text': 'Kiss me over the garden gate was a favorite flower of America’s third president, Thomas Jefferson.'}, {'audio': './data_spc/Wav/Eight_Garden_Flowers_Worth_Revisiting/32.wav', 'text': 'There are nearly 500 kinds of primroses in many colors.'}, {'audio': './data_spc/Wav/Eight_Garden_Flowers_Worth_Revisiting/39.wav', 'text': 'Plant seeds directly into the garden in a sunny spot in spring'}, {'audio': './data_spc/Wav/Eight_Garden_Flowers_Worth_Revisiting/45.wav', 'text': 'Then, cool the liquid and use.'}, {'audio': './data_spc/Wav/Eight_Garden_Flowers_Worth_Revisiting/2.wav', 'text': 'The scene is memorable. '}, {'audio': './data_spc/Wav/Eight_Garden_Flowers_Worth_Revisiting/18.wav', 'text': 'All of them self-seed, ensuring the flowers grow for years to come.'}, {'audio': './data_spc/Wav/Eight_Garden_Flowers_Worth_Revisiting/42.wav', 'text': ' Cut up about 130 grams of the plant’s leaves and stems'}, {'audio': './data_spc/Wav/Eight_Garden_Flowers_Worth_Revisiting/12.wav', 'text': ' Their petals open daily in late afternoon.'}, {'audio': './data_spc/Wav/Eight_Garden_Flowers_Worth_Revisiting/48.wav', 'text': 'Plant them in full sun everywhere except the deep South. '}, {'audio': './data_spc/Wav/Eight_Garden_Flowers_Worth_Revisiting/34.wav', 'text': 'The short-lived flowers that return yearly prefer partly wet, partly shady conditions.'}, {'audio': './data_spc/Wav/Eight_Garden_Flowers_Worth_Revisiting/8.wav', 'text': ' She regrets the disappearance of these once common plants.'}, {'audio': './data_spc/Wav/Eight_Garden_Flowers_Worth_Revisiting/40.wav', 'text': 'Remove dead flowers to avoid overgrowth.'}, {'audio': './data_spc/Wav/Eight_Garden_Flowers_Worth_Revisiting/10.wav', 'text': 'Damiano suggests four o’clocks as one candidate.'}, {'audio': './data_spc/Wav/Eight_Garden_Flowers_Worth_Revisiting/15.wav', 'text': ' It renews easily and gives out a sweet, lemony scent that brings bees, butterflies and hummingbirds to the plant to feed.'}, {'audio': './data_spc/Wav/Eight_Garden_Flowers_Worth_Revisiting/43.wav', 'text': 'Place them in around 500 milliliters of boiling water.'}, {'audio': './data_spc/Wav/Eight_Garden_Flowers_Worth_Revisiting/4.wav', 'text': 'Today, however, these flowering plants are rarely seen, or smelled, in the United States.'}, {'audio': './data_spc/Wav/Eight_Garden_Flowers_Worth_Revisiting/50.wav', 'text': 'I’m Jill Robbins.'}, {'audio': './data_spc/Wav/Eight_Garden_Flowers_Worth_Revisiting/31.wav', 'text': 'Plant them in full sun in the north and part shade in hot climates and provide a fence or similar structure for support.'}, {'audio': './data_spc/Wav/Eight_Garden_Flowers_Worth_Revisiting/22.wav', 'text': 'The flower carries the scent of grapes in full sun in northern zones.'}, {'audio': './data_spc/Wav/Eight_Garden_Flowers_Worth_Revisiting/6.wav', 'text': 'Hybrids and small, dense bedding plants are the substitutes in many gardens.'}, {'audio': './data_spc/Wav/Eight_Garden_Flowers_Worth_Revisiting/46.wav', 'text': 'With a wonderful, strong scent of cherry, almond and vanilla, heliotropes are grown yearly and available in several colors. '}, {'audio': './data_spc/Wav/Eight_Garden_Flowers_Worth_Revisiting/44.wav', 'text': 'Bring down the heat to a low setting and cook for 15 minutes. '}, {'audio': './data_spc/Wav/Eight_Garden_Flowers_Worth_Revisiting/49.wav', 'text': 'There, the flowers will do best if provided some afternoon shade.'}, {'audio': './data_spc/Wav/Eight_Garden_Flowers_Worth_Revisiting/51.wav', 'text': 'And I’m Dan Friedell.'}, {'audio': './data_spc/Wav/Eight_Garden_Flowers_Worth_Revisiting/23.wav', 'text': 'In the south, it requires some afternoon shade.'}, {'audio': './data_spc/Wav/Eight_Garden_Flowers_Worth_Revisiting/35.wav', 'text': 'Grow them in winter in the south and the spring elsewhere.'}, {'audio': './data_spc/Wav/Eight_Garden_Flowers_Worth_Revisiting/33.wav', 'text': 'But most gardens likely include the yellow-flowered ones. '}, {'audio': './data_spc/Wav/Eight_Garden_Flowers_Worth_Revisiting/1.wav', 'text': 'In Thornton Wilder’s 1938 play Our Town, people gather to enjoy the beloved scent of heliotrope flowers in the moonlight.'}, {'audio': './data_spc/Wav/Eight_Garden_Flowers_Worth_Revisiting/28.wav', 'text': 'Pink, purple, peach, red, white, yellow or near-black, hollyhock flowers will cover the plant’s 2.5 meter tall stalks from top to bottom.'}, {'audio': './data_spc/Wav/Eight_Garden_Flowers_Worth_Revisiting/26.wav', 'text': ' Its pink flowers hang from the plant in big bunches. '}, {'audio': './data_spc/Wav/Eight_Garden_Flowers_Worth_Revisiting/37.wav', 'text': 'The groundcover blooms in late-spring and summer.'}, {'audio': './data_spc/Wav/Eight_Garden_Flowers_Worth_Revisiting/38.wav', 'text': 'It returns every year and can grow as high as one meter.'}, {'audio': './data_spc/Wav/Eight_Garden_Flowers_Worth_Revisiting/41.wav', 'text': 'You can make a liquid cleanser from soapwort.'}, {'audio': './data_spc/Wav/Eight_Garden_Flowers_Worth_Revisiting/19.wav', 'text': 'The plant should grow in full sun, except for in southernmost areas, where they can use some shade. '}, {'audio': './data_spc/Wav/Eight_Garden_Flowers_Worth_Revisiting/36.wav', 'text': 'Soapwort is a flowering herb.'}, {'audio': './data_spc/Wav/Eight_Garden_Flowers_Worth_Revisiting/27.wav', 'text': 'In areas with cold winters, plant the seeds directly into the garden in autumn in warm climates, keep them very cold for a week before planting outside.'}, {'audio': './data_spc/Wav/Eight_Garden_Flowers_Worth_Revisiting/30.wav', 'text': 'But they do self-seed, so there will always be more flowers to come.'}, {'audio': './data_spc/Wav/Eight_Garden_Flowers_Worth_Revisiting/16.wav', 'text': 'The daisy-like cosmos grows from early summer through frost. '}, {'audio': './data_spc/Wav/Eight_Garden_Flowers_Worth_Revisiting/25.wav', 'text': 'This easy-care plant grows to nearly 2 meters tall making it perfect for the back of the garden. '}, {'audio': './data_spc/Wav/Eight_Garden_Flowers_Worth_Revisiting/21.wav', 'text': 'Pink, purple, red, white or mixed color, the vine plant sweet peas blooms yearly during spring and early summer. '}, {'audio': './data_spc/Wav/Eight_Garden_Flowers_Worth_Revisiting/9.wav', 'text': 'In a recent report, she writes that gardeners should consider planting Victorian garden flowers.'}, {'audio': './data_spc/Wav/Eight_Garden_Flowers_Worth_Revisiting/13.wav', 'text': ' They appear from spring until frost - the time when ice starts to form overnight.'}, {'audio': './data_spc/Wav/Eight_Garden_Flowers_Worth_Revisiting/7.wav', 'text': 'Gardening expert Jessica Damiano writes for the Associated Press. '}, {'audio': './data_spc/Wav/Eight_Garden_Flowers_Worth_Revisiting/17.wav', 'text': 'Some even grow year-round in warmer climates. '}, {'audio': './data_spc/Wav/Eight_Garden_Flowers_Worth_Revisiting/5.wav', 'text': 'Americans stopped growing heliotrope and other Victorian period flowers.'}, {'audio': './data_spc/Wav/Eight_Garden_Flowers_Worth_Revisiting/20.wav', 'text': ' The flowers are colored in yellow, pink, orange, red, purple, white and maroon.'}, {'audio': './data_spc/Wav/Eight_Garden_Flowers_Worth_Revisiting/11.wav', 'text': 'These white, red, pink, purple, or yellow, flowers are shaped like trumpet musical instruments. '}, {'audio': './data_spc/Wav/Eight_Garden_Flowers_Worth_Revisiting/14.wav', 'text': 'The plant for these flowers does not require much care or water.'}, {'audio': './data_spc/Wav/Eight_Garden_Flowers_Worth_Revisiting/47.wav', 'text': 'The dark purple color flower was noted in the famous Thornton Wilder play.'}, {'audio': './data_spc/Wav/Eight_Garden_Flowers_Worth_Revisiting/29.wav', 'text': 'The large-leaved plants are biennial, which means they live for two years and bloom only in their second year.'}, {'audio': './data_spc/Wav/California_Permitting_Its_Rivers_More_Space_to_Flow/3.wav', 'text': 'The 1,100-hectare property sits on land where the Tuolumne and San Joaquin rivers meet in the state’s Central Valley.'}, {'audio': './data_spc/Wav/California_Permitting_Its_Rivers_More_Space_to_Flow/24.wav', 'text': 'The dams generally cut off rivers from their natural floodplains.'}, {'audio': './data_spc/Wav/California_Permitting_Its_Rivers_More_Space_to_Flow/32.wav', 'text': 'Officials have updated the Central Valley Flood Protection Plan.'}, {'audio': './data_spc/Wav/California_Permitting_Its_Rivers_More_Space_to_Flow/39.wav', 'text': 'Dos Rios is an amazing example, but we need like 30 more of those, said Jane Dolan.'}, {'audio': './data_spc/Wav/California_Permitting_Its_Rivers_More_Space_to_Flow/45.wav', 'text': 'Then, it experienced its driest January through March on record.'}, {'audio': './data_spc/Wav/California_Permitting_Its_Rivers_More_Space_to_Flow/2.wav', 'text': 'Engineers are seeking to return the land there to what is was like 150 years ago, before dams changed the flow of its rivers.'}, {'audio': './data_spc/Wav/California_Permitting_Its_Rivers_More_Space_to_Flow/18.wav', 'text': 'More than 250 crops grow in the area.'}, {'audio': './data_spc/Wav/California_Permitting_Its_Rivers_More_Space_to_Flow/42.wav', 'text': 'The Biden administration has proposed at least $1.75 billion in an infrastructure bill for projects aimed at reducing flood risk.'}, {'audio': './data_spc/Wav/California_Permitting_Its_Rivers_More_Space_to_Flow/12.wav', 'text': 'By removing dams, rising rivers can flow onto land that no longer needs to be kept dry.'}, {'audio': './data_spc/Wav/California_Permitting_Its_Rivers_More_Space_to_Flow/48.wav', 'text': 'Since the 1850s, 95 percent of the historical wetlands and river habitats in the Central Valley have been destroyed.'}, {'audio': './data_spc/Wav/California_Permitting_Its_Rivers_More_Space_to_Flow/34.wav', 'text': 'Dos Rios is one of 17 floodplain projects identified by the state.'}, {'audio': './data_spc/Wav/California_Permitting_Its_Rivers_More_Space_to_Flow/8.wav', 'text': 'It is part of a larger national effort to reconsider how rivers should flow as the climate changes.'}, {'audio': './data_spc/Wav/California_Permitting_Its_Rivers_More_Space_to_Flow/40.wav', 'text': 'She is chair of the Central Valley Flood Protection Board.'}, {'audio': './data_spc/Wav/California_Permitting_Its_Rivers_More_Space_to_Flow/10.wav', 'text': 'But the owners sold the farm to the nonprofit River Partners to use for a wildlife habitat.'}, {'audio': './data_spc/Wav/California_Permitting_Its_Rivers_More_Space_to_Flow/15.wav', 'text': 'The Central Valley covers about 51,800 square kilometers.'}, {'audio': './data_spc/Wav/California_Permitting_Its_Rivers_More_Space_to_Flow/54.wav', 'text': 'Supporters of such projects would like to see them built faster in California and beyond.'}, {'audio': './data_spc/Wav/California_Permitting_Its_Rivers_More_Space_to_Flow/43.wav', 'text': 'Just as climate change is making California’s dry periods drier, it is also expected to make the wet periods wetter.'}, {'audio': './data_spc/Wav/California_Permitting_Its_Rivers_More_Space_to_Flow/4.wav', 'text': 'It is being recreated as a floodplain.'}, {'audio': './data_spc/Wav/California_Permitting_Its_Rivers_More_Space_to_Flow/56.wav', 'text': 'But there are also debates over costs and other issues that can slow work down, she noted.'}, {'audio': './data_spc/Wav/California_Permitting_Its_Rivers_More_Space_to_Flow/50.wav', 'text': 'Its owners began discussing a possible sale to River Partners for conservation in the mid-2000s.'}, {'audio': './data_spc/Wav/California_Permitting_Its_Rivers_More_Space_to_Flow/53.wav', 'text': ' Dos Rios is also home to the riparian brush rabbit, chinook salmon, steelhead trout, the yellow warbler, and the sandhill crane.'}, {'audio': './data_spc/Wav/California_Permitting_Its_Rivers_More_Space_to_Flow/31.wav', 'text': 'Total damage costs in the area reached $2 billion.'}, {'audio': './data_spc/Wav/California_Permitting_Its_Rivers_More_Space_to_Flow/22.wav', 'text': 'The government built huge new water redirection systems.'}, {'audio': './data_spc/Wav/California_Permitting_Its_Rivers_More_Space_to_Flow/6.wav', 'text': 'They are home for whole ecosystems.'}, {'audio': './data_spc/Wav/California_Permitting_Its_Rivers_More_Space_to_Flow/46.wav', 'text': 'One of the things that drives me crazy about California water is that decision makers want to talk about floods in flood years and droughts in drought years, said Barry Nelson.'}, {'audio': './data_spc/Wav/California_Permitting_Its_Rivers_More_Space_to_Flow/44.wav', 'text': 'The state experienced major rain and snowfall in December.'}, {'audio': './data_spc/Wav/California_Permitting_Its_Rivers_More_Space_to_Flow/49.wav', 'text': 'The property Dos Rios sits on was most recently a dairy.'}, {'audio': './data_spc/Wav/California_Permitting_Its_Rivers_More_Space_to_Flow/51.wav', 'text': 'River Partners has planted fourteen kinds of woody trees and other plants designed to appeal to native species.'}, {'audio': './data_spc/Wav/California_Permitting_Its_Rivers_More_Space_to_Flow/23.wav', 'text': 'The water supplies supported people and farms, and the dams protected cities and crops.'}, {'audio': './data_spc/Wav/California_Permitting_Its_Rivers_More_Space_to_Flow/35.wav', 'text': 'Four have been completed since 2013.'}, {'audio': './data_spc/Wav/California_Permitting_Its_Rivers_More_Space_to_Flow/33.wav', 'text': 'It details ways to lower flood risk and protect the 1.3 million people who live on floodplains.'}, {'audio': './data_spc/Wav/California_Permitting_Its_Rivers_More_Space_to_Flow/1.wav', 'text': 'Between huge almond farms and dairy fields in the heart of California’s farm country sits a property under redesign.'}, {'audio': './data_spc/Wav/California_Permitting_Its_Rivers_More_Space_to_Flow/28.wav', 'text': 'California officials began centralizing valley flood planning ten years ago.'}, {'audio': './data_spc/Wav/California_Permitting_Its_Rivers_More_Space_to_Flow/55.wav', 'text': 'Rentner, of River Partners, said there is general agreement on the value of recreating floodplains.'}, {'audio': './data_spc/Wav/California_Permitting_Its_Rivers_More_Space_to_Flow/26.wav', 'text': 'Floodplain recreation can help.'}, {'audio': './data_spc/Wav/California_Permitting_Its_Rivers_More_Space_to_Flow/58.wav', 'text': 'In this sort of ocean of disagreements about water policy, about all these other issues, he said, flood control policy has seen broad support.'}, {'audio': './data_spc/Wav/California_Permitting_Its_Rivers_More_Space_to_Flow/52.wav', 'text': 'The group said the habitat supports the Aleutian cackling goose, which used to be listed as an endangered species.'}, {'audio': './data_spc/Wav/California_Permitting_Its_Rivers_More_Space_to_Flow/37.wav', 'text': 'They have cost $300 million so far.'}, {'audio': './data_spc/Wav/California_Permitting_Its_Rivers_More_Space_to_Flow/38.wav', 'text': 'Money has come from local and federal resources.'}, {'audio': './data_spc/Wav/California_Permitting_Its_Rivers_More_Space_to_Flow/41.wav', 'text': 'Similar projects are taking place around the country.'}, {'audio': './data_spc/Wav/California_Permitting_Its_Rivers_More_Space_to_Flow/19.wav', 'text': 'It also is home to about one-fifth of all groundwater pumping in the U.S.'}, {'audio': './data_spc/Wav/California_Permitting_Its_Rivers_More_Space_to_Flow/36.wav', 'text': 'Three projects are active and 10 more are proposed.'}, {'audio': './data_spc/Wav/California_Permitting_Its_Rivers_More_Space_to_Flow/27.wav', 'text': ' For projects like Dos Rios, land that farmers no longer want to use is being turned into space where rivers can overflow.'}, {'audio': './data_spc/Wav/California_Permitting_Its_Rivers_More_Space_to_Flow/30.wav', 'text': 'Nine people were killed and more than 20,000 homes were destroyed.'}, {'audio': './data_spc/Wav/California_Permitting_Its_Rivers_More_Space_to_Flow/16.wav', 'text': 'It is an agricultural powerhouse.'}, {'audio': './data_spc/Wav/California_Permitting_Its_Rivers_More_Space_to_Flow/25.wav', 'text': 'As climate change causes temperatures to warm, mountain snow can fill rivers much faster, increasing the flows so much that dams fail.'}, {'audio': './data_spc/Wav/California_Permitting_Its_Rivers_More_Space_to_Flow/21.wav', 'text': \"But the state's population and farm production quickly grew through the 20th century.\"}, {'audio': './data_spc/Wav/California_Permitting_Its_Rivers_More_Space_to_Flow/9.wav', 'text': 'The land it covers used to be a farm.'}, {'audio': './data_spc/Wav/California_Permitting_Its_Rivers_More_Space_to_Flow/13.wav', 'text': \"It's giving new life ecologically but in a way that's consistent with, complementary to, the human systems that have developed over the 150 years since the Gold Rush, said Julie Rentner.\"}, {'audio': './data_spc/Wav/California_Permitting_Its_Rivers_More_Space_to_Flow/7.wav', 'text': 'The Dos Rios Ranch Preserve is California’s largest single floodplain rebuilding project.'}, {'audio': './data_spc/Wav/California_Permitting_Its_Rivers_More_Space_to_Flow/17.wav', 'text': 'It makes up about one percent of the nation’s farmland but produces 25 percent of the nation’s food.'}, {'audio': './data_spc/Wav/California_Permitting_Its_Rivers_More_Space_to_Flow/5.wav', 'text': 'Floodplains are areas where rivers often overflow from heavy rains.'}, {'audio': './data_spc/Wav/California_Permitting_Its_Rivers_More_Space_to_Flow/20.wav', 'text': 'A flood in the 1860s demonstrates the possibility for disaster.'}, {'audio': './data_spc/Wav/California_Permitting_Its_Rivers_More_Space_to_Flow/57.wav', 'text': 'In the complex world of California water, floodplain recreation stands out, expert Barry Nelson said.'}, {'audio': './data_spc/Wav/California_Permitting_Its_Rivers_More_Space_to_Flow/11.wav', 'text': 'California’s government wants to do similar projects that lower risks to property and also lead to things like improving the water supply.'}, {'audio': './data_spc/Wav/California_Permitting_Its_Rivers_More_Space_to_Flow/14.wav', 'text': 'She is president of River Partners.'}, {'audio': './data_spc/Wav/California_Permitting_Its_Rivers_More_Space_to_Flow/47.wav', 'text': 'He is a water control expert who worked on the Dos Rios project.'}, {'audio': './data_spc/Wav/California_Permitting_Its_Rivers_More_Space_to_Flow/29.wav', 'text': 'In 1997, major storms caused flood barriers to break throughout the valley, including on the Tuolumne River.'}, {'audio': './data_spc/Wav/Scientists_Observing_Neptune_Say_the_Planet_Is_Getting_Colder/3.wav', 'text': 'The team examined nearly 100 infrared images captured by the telescopes from 2003 to 2020.'}, {'audio': './data_spc/Wav/Scientists_Observing_Neptune_Say_the_Planet_Is_Getting_Colder/24.wav', 'text': 'The temperature changed over time and unevenly.'}, {'audio': './data_spc/Wav/Scientists_Observing_Neptune_Say_the_Planet_Is_Getting_Colder/32.wav', 'text': ' He is a planetary scientist at NASA’s Jet Propulsion Laboratory in California.'}, {'audio': './data_spc/Wav/Scientists_Observing_Neptune_Say_the_Planet_Is_Getting_Colder/2.wav', 'text': 'An international team of astronomers used ground-based telescopes in Hawaii and Chile to estimate Neptune’s atmospheric temperatures.'}, {'audio': './data_spc/Wav/Scientists_Observing_Neptune_Say_the_Planet_Is_Getting_Colder/18.wav', 'text': 'He is a postdoctoral researcher at the University of Leicester in Britain and the lead writer of the study.'}, {'audio': './data_spc/Wav/Scientists_Observing_Neptune_Say_the_Planet_Is_Getting_Colder/12.wav', 'text': 'The team recently reported its findings in the publication Planetary Science Journal.'}, {'audio': './data_spc/Wav/Scientists_Observing_Neptune_Say_the_Planet_Is_Getting_Colder/34.wav', 'text': 'He added that Neptune could become a model for the things we might expect to see in the meteorology of exoplanets studied in the future.'}, {'audio': './data_spc/Wav/Scientists_Observing_Neptune_Say_the_Planet_Is_Getting_Colder/8.wav', 'text': 'This means it needs about 165 Earth years to complete a single orbit around the sun.'}, {'audio': './data_spc/Wav/Scientists_Observing_Neptune_Say_the_Planet_Is_Getting_Colder/10.wav', 'text': 'The American space agency NASA’s Voyager 2 is the only spacecraft to have passed close to Neptune, which it did in 1989.'}, {'audio': './data_spc/Wav/Scientists_Observing_Neptune_Say_the_Planet_Is_Getting_Colder/15.wav', 'text': \"By comparison, temperatures in Neptune's troposphere – the even-colder weather layer – showed no major changes.\"}, {'audio': './data_spc/Wav/Scientists_Observing_Neptune_Say_the_Planet_Is_Getting_Colder/4.wav', 'text': 'The data showed that Neptune experienced a surprising drop in atmospheric temperatures over the past 17 years.'}, {'audio': './data_spc/Wav/Scientists_Observing_Neptune_Say_the_Planet_Is_Getting_Colder/31.wav', 'text': 'Neptune may offer lessons about planets beyond our solar system, called exoplanets, said study co-author Glenn Orton.'}, {'audio': './data_spc/Wav/Scientists_Observing_Neptune_Say_the_Planet_Is_Getting_Colder/22.wav', 'text': 'The astronomers collected Neptune temperatures using cameras equipped to measure infrared light from space objects, the European Southern Observatory (ESO) said in a statement.'}, {'audio': './data_spc/Wav/Scientists_Observing_Neptune_Say_the_Planet_Is_Getting_Colder/6.wav', 'text': ' It is about four times wider than Earth.'}, {'audio': './data_spc/Wav/Scientists_Observing_Neptune_Say_the_Planet_Is_Getting_Colder/23.wav', 'text': 'Most of the team’s observations were made with the ESO’s Very Large Telescope, which is based in northern Chile.'}, {'audio': './data_spc/Wav/Scientists_Observing_Neptune_Say_the_Planet_Is_Getting_Colder/33.wav', 'text': \"The close relationship that Neptune may share with a large segment of the population of exoplanets means that it may be 'an exoplanet in our backyard,' Orton said.\"}, {'audio': './data_spc/Wav/Scientists_Observing_Neptune_Say_the_Planet_Is_Getting_Colder/1.wav', 'text': 'Researchers say new observations of Neptune suggest the planet is getting colder.'}, {'audio': './data_spc/Wav/Scientists_Observing_Neptune_Say_the_Planet_Is_Getting_Colder/28.wav', 'text': 'But then, the area warmed quickly and sharply.'}, {'audio': './data_spc/Wav/Scientists_Observing_Neptune_Say_the_Planet_Is_Getting_Colder/26.wav', 'text': 'In the middle areas, temperatures remained similar before starting to fall over time.'}, {'audio': './data_spc/Wav/Scientists_Observing_Neptune_Say_the_Planet_Is_Getting_Colder/19.wav', 'text': 'I think Neptune is very intriguing to many of us because we still know so little about it, Roman added.'}, {'audio': './data_spc/Wav/Scientists_Observing_Neptune_Say_the_Planet_Is_Getting_Colder/27.wav', 'text': 'Temperatures at the south pole showed only minor drops during most of the period, the researchers reported.'}, {'audio': './data_spc/Wav/Scientists_Observing_Neptune_Say_the_Planet_Is_Getting_Colder/30.wav', 'text': 'I suspect the overall temperature drop may most likely be due to changes in the atmospheric chemistry, which responds to changing seasonal sunlight, Roman said.'}, {'audio': './data_spc/Wav/Scientists_Observing_Neptune_Say_the_Planet_Is_Getting_Colder/16.wav', 'text': 'The troposphere reached temperatures as low as minus 223 Celsius.'}, {'audio': './data_spc/Wav/Scientists_Observing_Neptune_Say_the_Planet_Is_Getting_Colder/25.wav', 'text': 'The area of the planet known as the southern tropics cooled, then warmed, then cooled again.'}, {'audio': './data_spc/Wav/Scientists_Observing_Neptune_Say_the_Planet_Is_Getting_Colder/21.wav', 'text': 'Roman said the finding seems to be a general lesson that nature teaches scientists again and again.'}, {'audio': './data_spc/Wav/Scientists_Observing_Neptune_Say_the_Planet_Is_Getting_Colder/9.wav', 'text': 'Neptune is among the least explored planets.'}, {'audio': './data_spc/Wav/Scientists_Observing_Neptune_Say_the_Planet_Is_Getting_Colder/13.wav', 'text': \"The researchers centered on Neptune's stratosphere, an upper part of the atmosphere just above the planet’s weather layer.\"}, {'audio': './data_spc/Wav/Scientists_Observing_Neptune_Say_the_Planet_Is_Getting_Colder/7.wav', 'text': ' Neptune orbits more than 30 times as far away from the sun as Earth does.'}, {'audio': './data_spc/Wav/Scientists_Observing_Neptune_Say_the_Planet_Is_Getting_Colder/17.wav', 'text': 'This change was unexpected, said Michael Roman of the stratospheric readings.'}, {'audio': './data_spc/Wav/Scientists_Observing_Neptune_Say_the_Planet_Is_Getting_Colder/5.wav', 'text': 'Considered an ice giant, Neptune is the outermost planet in our solar system.'}, {'audio': './data_spc/Wav/Scientists_Observing_Neptune_Say_the_Planet_Is_Getting_Colder/20.wav', 'text': 'He noted that the Neptune observations led researchers to believe that conditions on the planet were more complex than first thought.'}, {'audio': './data_spc/Wav/Scientists_Observing_Neptune_Say_the_Planet_Is_Getting_Colder/11.wav', 'text': 'The latest examinations of Neptune’s atmospheric temperatures are the most detailed ever collected.'}, {'audio': './data_spc/Wav/Scientists_Observing_Neptune_Say_the_Planet_Is_Getting_Colder/14.wav', 'text': ' Neptune’s stratosphere temperature fell to minus 117 Celsius, a drop of eight degrees, during the 17-year period.'}, {'audio': './data_spc/Wav/Scientists_Observing_Neptune_Say_the_Planet_Is_Getting_Colder/29.wav', 'text': 'From 2018 to 2020, the temperature at the south pole rose by 11 degrees.'}, {'audio': './data_spc/Wav/COVID_Arrives_in_One_of_the_Last_Places_Without_It/3.wav', 'text': 'Kiribati finally began reopening this month, letting a plane carrying 54 of its citizens to return.'}, {'audio': './data_spc/Wav/COVID_Arrives_in_One_of_the_Last_Places_Without_It/24.wav', 'text': ' He said Kiribati had only two intensive care beds in the entire nation.'}, {'audio': './data_spc/Wav/COVID_Arrives_in_One_of_the_Last_Places_Without_It/32.wav', 'text': 'The nation of 105,000 people has since received aid from around the world.'}, {'audio': './data_spc/Wav/COVID_Arrives_in_One_of_the_Last_Places_Without_It/39.wav', 'text': 'By Thursday, that number had grown to 27, including five front line nurses who had treated the passengers.'}, {'audio': './data_spc/Wav/COVID_Arrives_in_One_of_the_Last_Places_Without_It/2.wav', 'text': ' That meant the disease did not reach the remote country in the Pacific for nearly two years.'}, {'audio': './data_spc/Wav/COVID_Arrives_in_One_of_the_Last_Places_Without_It/18.wav', 'text': 'She said the spread of the virus could not be avoided.'}, {'audio': './data_spc/Wav/COVID_Arrives_in_One_of_the_Last_Places_Without_It/42.wav', 'text': ' But only four people will be permitted to be on a boat or part of a group fishing near shore.'}, {'audio': './data_spc/Wav/COVID_Arrives_in_One_of_the_Last_Places_Without_It/12.wav', 'text': 'Kiribati and several other small Pacific nations were among the last places on the planet to have avoided any virus outbreaks. '}, {'audio': './data_spc/Wav/COVID_Arrives_in_One_of_the_Last_Places_Without_It/34.wav', 'text': 'Petousis-Harris, the vaccine expert, said, Anything they can do to keep it out is going to be important.'}, {'audio': './data_spc/Wav/COVID_Arrives_in_One_of_the_Last_Places_Without_It/8.wav', 'text': 'The measures were not enough.'}, {'audio': './data_spc/Wav/COVID_Arrives_in_One_of_the_Last_Places_Without_It/40.wav', 'text': 'While the appearance of the virus has caused restrictions, there were signs that not all traditional qualities of island life would be lost for long.'}, {'audio': './data_spc/Wav/COVID_Arrives_in_One_of_the_Last_Places_Without_It/10.wav', 'text': 'The government has declared a state of disaster.'}, {'audio': './data_spc/Wav/COVID_Arrives_in_One_of_the_Last_Places_Without_It/15.wav', 'text': \"Before this month's outbreak, Kiribati had reported just two virus cases. \"}, {'audio': './data_spc/Wav/COVID_Arrives_in_One_of_the_Last_Places_Without_It/4.wav', 'text': 'Many of those on the plane were religious workers from the Mormon Church.'}, {'audio': './data_spc/Wav/COVID_Arrives_in_One_of_the_Last_Places_Without_It/31.wav', 'text': 'As Tonga is trying to prevent an outbreak, a strong volcanic explosion and tsunami destroyed the country earlier this month.'}, {'audio': './data_spc/Wav/COVID_Arrives_in_One_of_the_Last_Places_Without_It/22.wav', 'text': 'And like many other Pacific nations, Kiribati offers only basic health services.'}, {'audio': './data_spc/Wav/COVID_Arrives_in_One_of_the_Last_Places_Without_It/6.wav', 'text': 'Officials tested each returning passenger three times in nearby Fiji. '}, {'audio': './data_spc/Wav/COVID_Arrives_in_One_of_the_Last_Places_Without_It/23.wav', 'text': 'Dr. Api Talemaitoga leads a network of Indigenous Pacific Island doctors in New Zealand. '}, {'audio': './data_spc/Wav/COVID_Arrives_in_One_of_the_Last_Places_Without_It/35.wav', 'text': 'COVID would just make that disaster worse, she added.'}, {'audio': './data_spc/Wav/COVID_Arrives_in_One_of_the_Last_Places_Without_It/33.wav', 'text': ' Crews from incoming military ships and planes must drop their supplies and leave without having any contact with those on the ground.'}, {'audio': './data_spc/Wav/COVID_Arrives_in_One_of_the_Last_Places_Without_It/1.wav', 'text': 'When the coronavirus began spreading around the world, the island nation of Kiribati closed its borders.'}, {'audio': './data_spc/Wav/COVID_Arrives_in_One_of_the_Last_Places_Without_It/28.wav', 'text': ' President Taneti Maamau said on social media that the government is using all its resources to deal with the situation and urged people to get vaccinated.'}, {'audio': './data_spc/Wav/COVID_Arrives_in_One_of_the_Last_Places_Without_It/26.wav', 'text': \"He said he is concerned about how Kiribati's health system will handle the outbreak.\"}, {'audio': './data_spc/Wav/COVID_Arrives_in_One_of_the_Last_Places_Without_It/37.wav', 'text': 'Nearby Samoa, with a population of 205,000, is also trying to prevent its first outbreak.'}, {'audio': './data_spc/Wav/COVID_Arrives_in_One_of_the_Last_Places_Without_It/38.wav', 'text': ' It restricted movement after 15 passengers on a plane from Australia last week tested positive. '}, {'audio': './data_spc/Wav/COVID_Arrives_in_One_of_the_Last_Places_Without_It/41.wav', 'text': 'Kiribati declared on Thursday people could return to fishing. '}, {'audio': './data_spc/Wav/COVID_Arrives_in_One_of_the_Last_Places_Without_It/19.wav', 'text': \"It's a matter of buying enough time to prepare and getting as many people vaccinated as possible, she added.\"}, {'audio': './data_spc/Wav/COVID_Arrives_in_One_of_the_Last_Places_Without_It/36.wav', 'text': 'In the long term, however, it is going to be impossible to stop the virus from entering Tonga or any other community, Petousis-Harris said.'}, {'audio': './data_spc/Wav/COVID_Arrives_in_One_of_the_Last_Places_Without_It/27.wav', 'text': 'Kiribati has now opened several quarantine areas, declared a curfew, and restricted movement. '}, {'audio': './data_spc/Wav/COVID_Arrives_in_One_of_the_Last_Places_Without_It/30.wav', 'text': ' He was vaccinated and quarantined following his return from Africa and New Zealand.'}, {'audio': './data_spc/Wav/COVID_Arrives_in_One_of_the_Last_Places_Without_It/16.wav', 'text': ' They were crew members on a ship that officials did not permit to dock.'}, {'audio': './data_spc/Wav/COVID_Arrives_in_One_of_the_Last_Places_Without_It/25.wav', 'text': 'In the past, the nation would send its sickest patients to Fiji or New Zealand for treatment.'}, {'audio': './data_spc/Wav/COVID_Arrives_in_One_of_the_Last_Places_Without_It/21.wav', 'text': 'A scientific publication, Our World in Data, reports that 59 percent have had at least one shot of the vaccine. '}, {'audio': './data_spc/Wav/COVID_Arrives_in_One_of_the_Last_Places_Without_It/9.wav', 'text': 'More than half the passengers tested positive for the virus, which has now spread into the community. '}, {'audio': './data_spc/Wav/COVID_Arrives_in_One_of_the_Last_Places_Without_It/13.wav', 'text': 'They have little contact because of their remote locations and strict border controls. '}, {'audio': './data_spc/Wav/COVID_Arrives_in_One_of_the_Last_Places_Without_It/7.wav', 'text': 'They were required to be vaccinated and stay in quarantine with additional testing when they arrived home.'}, {'audio': './data_spc/Wav/COVID_Arrives_in_One_of_the_Last_Places_Without_It/17.wav', 'text': 'Helen Petousis-Harris is a vaccine expert at the University of Auckland in New Zealand.'}, {'audio': './data_spc/Wav/COVID_Arrives_in_One_of_the_Last_Places_Without_It/5.wav', 'text': 'They had left Kiribati before the border closure to spread the church’s teachings in other countries.'}, {'audio': './data_spc/Wav/COVID_Arrives_in_One_of_the_Last_Places_Without_It/20.wav', 'text': \"Only 33 percent of Kiribati's 113,000 people are fully vaccinated.\"}, {'audio': './data_spc/Wav/COVID_Arrives_in_One_of_the_Last_Places_Without_It/11.wav', 'text': ' And what began as 36 positive cases from the flight increased to 181 cases by Friday.'}, {'audio': './data_spc/Wav/COVID_Arrives_in_One_of_the_Last_Places_Without_It/14.wav', 'text': 'But their defenses appear to be ineffective against the highly contagious Omicron variant.'}, {'audio': './data_spc/Wav/COVID_Arrives_in_One_of_the_Last_Places_Without_It/29.wav', 'text': 'In October, another religious worker also brought the first and only case, so far, of COVID-19 to Tonga, an island nation over 2,000 kilometers southwest of Kiribati.'}, {'audio': './data_spc/Wav/Technologies_Used_at_the_Beijing_Olympics/3.wav', 'text': 'Some machines are being used to enforce social distancing requirements related to COVID-19.'}, {'audio': './data_spc/Wav/Technologies_Used_at_the_Beijing_Olympics/24.wav', 'text': 'This could include sensitive information such as passport details and medical and travel history, the group said.'}, {'audio': './data_spc/Wav/Technologies_Used_at_the_Beijing_Olympics/32.wav', 'text': 'Visitors were also urged to create a new email address and browser account on the temporary phone for use in China.'}, {'audio': './data_spc/Wav/Technologies_Used_at_the_Beijing_Olympics/2.wav', 'text': 'A series of different kinds of robots have been deployed to assist visitors and athletes.'}, {'audio': './data_spc/Wav/Technologies_Used_at_the_Beijing_Olympics/18.wav', 'text': 'The Chinese government has said that so far, the digital currency has been used in about $13.8 billion worth of financial transactions.'}, {'audio': './data_spc/Wav/Technologies_Used_at_the_Beijing_Olympics/12.wav', 'text': 'Members of the media in Beijing can try out the same beds the athletes are using in special sleep rest cabins.'}, {'audio': './data_spc/Wav/Technologies_Used_at_the_Beijing_Olympics/8.wav', 'text': 'They also have controls to permit users to choose different sleeping positions, including one called zero gravity.'}, {'audio': './data_spc/Wav/Technologies_Used_at_the_Beijing_Olympics/10.wav', 'text': 'These high-tech beds are very different from the lower-tech versions provided for Olympic athletes at last year’s Tokyo Games.'}, {'audio': './data_spc/Wav/Technologies_Used_at_the_Beijing_Olympics/15.wav', 'text': 'Visitors will be able to use digital yuan to pay for food, transportation and other goods and services.'}, {'audio': './data_spc/Wav/Technologies_Used_at_the_Beijing_Olympics/4.wav', 'text': 'Robots are also transporting equipment, cleaning surfaces and preparing and carrying food to limit human-to-human contact.'}, {'audio': './data_spc/Wav/Technologies_Used_at_the_Beijing_Olympics/31.wav', 'text': 'The company said this move can protect a user’s personal information that is stored on their normal phone.'}, {'audio': './data_spc/Wav/Technologies_Used_at_the_Beijing_Olympics/22.wav', 'text': 'But a Canadian organization that monitors internet security said in a report released last month that the MY2022 app contains major security weaknesses.'}, {'audio': './data_spc/Wav/Technologies_Used_at_the_Beijing_Olympics/6.wav', 'text': 'At the Winter Olympic Village, the athletes are sleeping on smart beds equipped with sensors.'}, {'audio': './data_spc/Wav/Technologies_Used_at_the_Beijing_Olympics/23.wav', 'text': 'The security problems could lead to private user information being exposed, Toronto-based Citizen Lab said.'}, {'audio': './data_spc/Wav/Technologies_Used_at_the_Beijing_Olympics/1.wav', 'text': 'As the Winter Olympic Games continue in China, here are some of the different technologies being used in Beijing.'}, {'audio': './data_spc/Wav/Technologies_Used_at_the_Beijing_Olympics/28.wav', 'text': 'And it includes a censorship keyword list.'}, {'audio': './data_spc/Wav/Technologies_Used_at_the_Beijing_Olympics/26.wav', 'text': 'This means it is possible it could be read by Chinese internet service providers or telecommunications companies through Wi-Fi hotspots at hotels, airports and places holding Olympic competitions.'}, {'audio': './data_spc/Wav/Technologies_Used_at_the_Beijing_Olympics/19.wav', 'text': 'All Olympic attendees must use an app, called MY2022, for daily monitoring for COVID-19.'}, {'audio': './data_spc/Wav/Technologies_Used_at_the_Beijing_Olympics/27.wav', 'text': 'The app also permits users to report politically sensitive content, Citizen Lab reported.'}, {'audio': './data_spc/Wav/Technologies_Used_at_the_Beijing_Olympics/30.wav', 'text': 'Because of security and privacy questions, cybersecurity company Internet 2.0 advised attendees to buy and take a new phone with them to use while in China.'}, {'audio': './data_spc/Wav/Technologies_Used_at_the_Beijing_Olympics/16.wav', 'text': 'Users can get the currency by downloading an app, getting a digital yuan card or by exchanging foreign currency into digital form through machines in Olympic areas.'}, {'audio': './data_spc/Wav/Technologies_Used_at_the_Beijing_Olympics/25.wav', 'text': 'The report said the app does not effectively protect such information.'}, {'audio': './data_spc/Wav/Technologies_Used_at_the_Beijing_Olympics/21.wav', 'text': 'The system is part of China’s aggressive effort to limit the spread of the virus during the Games.'}, {'audio': './data_spc/Wav/Technologies_Used_at_the_Beijing_Olympics/9.wav', 'text': 'That setting is supposed to reduce pressure on muscles and joints and support higher quality sleep.'}, {'audio': './data_spc/Wav/Technologies_Used_at_the_Beijing_Olympics/13.wav', 'text': 'The cabins, or containers, permit reporters to enter and rest for up to an hour. The cabins are fully cleaned after each use.'}, {'audio': './data_spc/Wav/Technologies_Used_at_the_Beijing_Olympics/7.wav', 'text': 'The devices collect information on things like breathing and heart rates.'}, {'audio': './data_spc/Wav/Technologies_Used_at_the_Beijing_Olympics/17.wav', 'text': 'Over the past few years, China has carried out tests with digital money in major cities.'}, {'audio': './data_spc/Wav/Technologies_Used_at_the_Beijing_Olympics/5.wav', 'text': 'Smart waste containers are also being used, as well as machines that can make and serve alcoholic drinks and coffee.'}, {'audio': './data_spc/Wav/Technologies_Used_at_the_Beijing_Olympics/20.wav', 'text': 'The app permits users to send personal health information every day as a requirement to take part in the Games.'}, {'audio': './data_spc/Wav/Technologies_Used_at_the_Beijing_Olympics/11.wav', 'text': 'The beds used in Japan – which received wide attention for being so unusual – were made of cardboard material for environmental reasons.'}, {'audio': './data_spc/Wav/Technologies_Used_at_the_Beijing_Olympics/14.wav', 'text': 'China’s digital money will be in use at the Olympics in the currency’s first major test with foreigners.'}, {'audio': './data_spc/Wav/Technologies_Used_at_the_Beijing_Olympics/29.wav', 'text': 'The group said the list can identify different political subjects, including Chinese policies in Xinjiang and Tibet, as well as naming government agencies.'}]\n",
            "vocab size 34\n"
          ]
        }
      ],
      "source": [
        "\n",
        "class VectorizeChar:\n",
        "    def __init__(self, max_len=50):\n",
        "        self.vocab = (\n",
        "            [\"-\", \"#\", \"<\", \">\"]\n",
        "            + [chr(i + 96) for i in range(1, 27)]\n",
        "            + [\" \", \".\", \",\", \"?\"]\n",
        "        )\n",
        "        self.max_len = max_len\n",
        "        self.char_to_idx = {}\n",
        "        for i, ch in enumerate(self.vocab):\n",
        "            self.char_to_idx[ch] = i\n",
        "\n",
        "    def __call__(self, text):\n",
        "        text = text.lower()\n",
        "        text = text[: self.max_len - 2]\n",
        "        text = \"<\" + text + \">\"\n",
        "        pad_len = self.max_len - len(text)\n",
        "        return [self.char_to_idx.get(ch, 1) for ch in text] + [0] * pad_len\n",
        "\n",
        "    def get_vocabulary(self):\n",
        "        return self.vocab\n",
        "\n",
        "\n",
        "max_target_len = 200  # all transcripts in out data are < 200 characters\n",
        "data = get_data(wavs, max_target_len)\n",
        "\n",
        "print(data)\n",
        "vectorizer = VectorizeChar(max_target_len)\n",
        "print(\"vocab size\", len(vectorizer.get_vocabulary()))\n",
        "\n",
        "def create_text_ds(data):\n",
        "    texts = [_[\"text\"] for _ in data]\n",
        "    text_ds = [vectorizer(t) for t in texts]\n",
        "    text_ds = tf.data.Dataset.from_tensor_slices(text_ds)\n",
        "    return text_ds\n",
        "\n",
        "\n",
        "def path_to_audio(path):\n",
        "    # spectrogram using stft\n",
        "    audio = tf.io.read_file(path)\n",
        "    audio, _ = tf.audio.decode_wav(audio, 1)\n",
        "    audio = tf.squeeze(audio, axis=-1)\n",
        "    stfts = tf.signal.stft(audio, frame_length=200, frame_step=80, fft_length=256)\n",
        "    x = tf.math.pow(tf.abs(stfts), 0.5)\n",
        "    # normalisation\n",
        "    means = tf.math.reduce_mean(x, 1, keepdims=True)\n",
        "    stddevs = tf.math.reduce_std(x, 1, keepdims=True)\n",
        "    x = (x - means) / stddevs\n",
        "    audio_len = tf.shape(x)[0]\n",
        "    # padding to 10 seconds\n",
        "    pad_len = 2754\n",
        "    paddings = tf.constant([[0, pad_len], [0, 0]])\n",
        "    x = tf.pad(x, paddings, \"CONSTANT\")[:pad_len, :]\n",
        "    return x\n",
        "\n",
        "\n",
        "def create_audio_ds(data):\n",
        "    flist = [_[\"audio\"] for _ in data]\n",
        "    audio_ds = tf.data.Dataset.from_tensor_slices(flist)\n",
        "    audio_ds = audio_ds.map(\n",
        "        path_to_audio, num_parallel_calls=tf.data.AUTOTUNE\n",
        "    )\n",
        "    return audio_ds\n",
        "\n",
        "\n",
        "def create_tf_dataset(data, bs=4):\n",
        "    audio_ds = create_audio_ds(data)\n",
        "    text_ds = create_text_ds(data)\n",
        "    ds = tf.data.Dataset.zip((audio_ds, text_ds))\n",
        "    ds = ds.map(lambda x, y: {\"source\": x, \"target\": y})\n",
        "    ds = ds.batch(bs)\n",
        "    ds = ds.prefetch(tf.data.AUTOTUNE)\n",
        "    return ds\n",
        "\n",
        "# split for train and test\n",
        "split = int(len(data) * 0.8)\n",
        "train_data = data[:split]\n",
        "test_data = data[split:]\n",
        "ds = create_tf_dataset(train_data, bs=64)\n",
        "val_ds = create_tf_dataset(test_data, bs=4)"
      ]
    },
    {
      "cell_type": "markdown",
      "metadata": {
        "id": "pJLK3YkIqyTl"
      },
      "source": [
        "## Callbacks to display predictions"
      ]
    },
    {
      "cell_type": "code",
      "execution_count": null,
      "metadata": {
        "id": "rpRAqQDRqyTl"
      },
      "outputs": [],
      "source": [
        "\n",
        "class DisplayOutputs(keras.callbacks.Callback):\n",
        "    def __init__(\n",
        "        self, batch, idx_to_token, target_start_token_idx=27, target_end_token_idx=28\n",
        "    ):\n",
        "        \"\"\"Displays a batch of outputs after every epoch\n",
        "\n",
        "        Args:\n",
        "            batch: A test batch containing the keys \"source\" and \"target\"\n",
        "            idx_to_token: A List containing the vocabulary tokens corresponding to their indices\n",
        "            target_start_token_idx: A start token index in the target vocabulary\n",
        "            target_end_token_idx: An end token index in the target vocabulary\n",
        "        \"\"\"\n",
        "        self.batch = batch\n",
        "        self.target_start_token_idx = target_start_token_idx\n",
        "        self.target_end_token_idx = target_end_token_idx\n",
        "        self.idx_to_char = idx_to_token\n",
        "\n",
        "    def on_epoch_end(self, epoch, logs=None):\n",
        "        if epoch % 5 != 0:\n",
        "            return\n",
        "        source = self.batch[\"source\"]\n",
        "        target = self.batch[\"target\"].numpy()\n",
        "        bs = tf.shape(source)[0]\n",
        "        preds = self.model.generate(source, self.target_start_token_idx)\n",
        "        preds = preds.numpy()\n",
        "        for i in range(bs):\n",
        "            target_text = \"\".join([self.idx_to_char[_] for _ in target[i, :]])\n",
        "            prediction = \"\"\n",
        "            for idx in preds[i, :]:\n",
        "                prediction += self.idx_to_char[idx]\n",
        "                if idx == self.target_end_token_idx:\n",
        "                    break\n",
        "            print(f\"target:     {target_text.replace('-','')}\")\n",
        "            print(f\"prediction: {prediction}\\n\")\n"
      ]
    },
    {
      "cell_type": "markdown",
      "metadata": {
        "id": "lWRDFNhSqyTl"
      },
      "source": [
        "## Learning rate schedule"
      ]
    },
    {
      "cell_type": "code",
      "execution_count": null,
      "metadata": {
        "id": "mZ7Jv2PaqyTl"
      },
      "outputs": [],
      "source": [
        "\n",
        "class CustomSchedule(keras.optimizers.schedules.LearningRateSchedule):\n",
        "    def __init__(\n",
        "        self,\n",
        "        init_lr=0.00001,\n",
        "        lr_after_warmup=0.001,\n",
        "        final_lr=0.00001,\n",
        "        warmup_epochs=15,\n",
        "        decay_epochs=85,\n",
        "        steps_per_epoch=203,\n",
        "        # steps_per_epoch=100,\n",
        "    ):\n",
        "        super().__init__()\n",
        "        self.init_lr = init_lr\n",
        "        self.lr_after_warmup = lr_after_warmup\n",
        "        self.final_lr = final_lr\n",
        "        self.warmup_epochs = warmup_epochs\n",
        "        self.decay_epochs = decay_epochs\n",
        "        self.steps_per_epoch = steps_per_epoch\n",
        "\n",
        "    def calculate_lr(self, epoch):\n",
        "        \"\"\" linear warm up - linear decay \"\"\"\n",
        "        warmup_lr = (\n",
        "            self.init_lr\n",
        "            + ((self.lr_after_warmup - self.init_lr) / (self.warmup_epochs - 1)) * epoch\n",
        "        )\n",
        "        decay_lr = tf.math.maximum(\n",
        "            self.final_lr,\n",
        "            self.lr_after_warmup\n",
        "            - (epoch - self.warmup_epochs)\n",
        "            * (self.lr_after_warmup - self.final_lr)\n",
        "            / (self.decay_epochs),\n",
        "        )\n",
        "        return tf.math.minimum(warmup_lr, decay_lr)\n",
        "\n",
        "    def __call__(self, step):\n",
        "        epoch = step // self.steps_per_epoch\n",
        "        return self.calculate_lr(epoch)\n"
      ]
    },
    {
      "cell_type": "markdown",
      "metadata": {
        "id": "QaDN4yhmqyTm"
      },
      "source": [
        "## Create & train the end-to-end model"
      ]
    },
    {
      "cell_type": "code",
      "execution_count": null,
      "metadata": {
        "id": "i4n_U62VqyTm"
      },
      "outputs": [],
      "source": [
        "batch = next(iter(val_ds))\n",
        "\n",
        "# The vocabulary to convert predicted indices into characters\n",
        "idx_to_char = vectorizer.get_vocabulary()\n",
        "display_cb = DisplayOutputs(\n",
        "    batch, idx_to_char, target_start_token_idx=2, target_end_token_idx=3\n",
        ")  # set the arguments as per vocabulary index for '<' and '>'\n",
        "\n",
        "model = Transformer(\n",
        "    num_hid=200,\n",
        "    num_head=2,\n",
        "    num_feed_forward=400,\n",
        "    target_maxlen=max_target_len,\n",
        "    num_layers_enc=4,\n",
        "    num_layers_dec=1,\n",
        "    num_classes=32,\n",
        "    # num_classes=32,\n",
        ")\n",
        "loss_fn = tf.keras.losses.CategoricalCrossentropy(\n",
        "    from_logits=True, label_smoothing=0.1,\n",
        ")\n",
        "\n",
        "learning_rate = CustomSchedule(\n",
        "    init_lr=0.00001,\n",
        "    lr_after_warmup=0.001,\n",
        "    final_lr=0.00001,\n",
        "    warmup_epochs=15,\n",
        "    decay_epochs=85,\n",
        "    steps_per_epoch=len(ds),\n",
        ")\n",
        "optimizer = keras.optimizers.Adam(learning_rate)\n",
        "model.compile(optimizer=optimizer, loss=loss_fn)"
      ]
    },
    {
      "cell_type": "code",
      "execution_count": null,
      "metadata": {
        "id": "0QDq0bzgs2TS",
        "colab": {
          "base_uri": "https://localhost:8080/"
        },
        "outputId": "52393282-5683-43e9-8906-4f38df87a48d"
      },
      "outputs": [
        {
          "output_type": "stream",
          "name": "stdout",
          "text": [
            "Epoch 1/10\n",
            "5/6 [========================>.....] - ETA: 2s - loss: 1.8614target:     < neptune orbits more than ## times as far away from the sun as earth does.>\n",
            "prediction: <mxiegqm>\n",
            "\n",
            "target:     <this change was unexpected, said michael roman of the stratospheric readings.>\n",
            "prediction: <mxiegqm>\n",
            "\n",
            "target:     <considered an ice giant, neptune is the outermost planet in our solar system.>\n",
            "prediction: <mxiegqm>\n",
            "\n",
            "target:     <he noted that the neptune observations led researchers to believe that conditions on the planet were more complex than first thought.>\n",
            "prediction: <mxiegqm>\n",
            "\n",
            "6/6 [==============================] - 32s 4s/step - loss: 1.8370 - val_loss: 2.1548\n",
            "Epoch 2/10\n",
            "6/6 [==============================] - 18s 3s/step - loss: 1.6653 - val_loss: 1.8885\n",
            "Epoch 3/10\n",
            "6/6 [==============================] - 18s 3s/step - loss: 1.4833 - val_loss: 1.7296\n",
            "Epoch 4/10\n",
            "6/6 [==============================] - 18s 3s/step - loss: 1.3575 - val_loss: 1.6025\n",
            "Epoch 5/10\n",
            "6/6 [==============================] - 18s 3s/step - loss: 1.2650 - val_loss: 1.5277\n",
            "Epoch 6/10\n",
            "5/6 [========================>.....] - ETA: 2s - loss: 1.2515target:     < neptune orbits more than ## times as far away from the sun as earth does.>\n",
            "prediction: <the t a the the an the ale t athe ane ane alin the the are an an t athe the the the an are on the the the ane athere ane an the thererere thererererere the t the ate in therere the therere one t the \n",
            "\n",
            "target:     <this change was unexpected, said michael roman of the stratospheric readings.>\n",
            "prediction: <the t a the the an the ale t athe ane ane alin the the are an an t athe the the the an are on the the the ane athere ane an the thererere thererererere the t the ate in therere the therere one t the \n",
            "\n",
            "target:     <considered an ice giant, neptune is the outermost planet in our solar system.>\n",
            "prediction: <the t a the the an the ale t athe ane ane alin the the are an an t athe the the the an are on the the the ane athere ane an the thererere thererererere the t the ate in therere the therere one t the \n",
            "\n",
            "target:     <he noted that the neptune observations led researchers to believe that conditions on the planet were more complex than first thought.>\n",
            "prediction: <the t a the the an the ale t athe ane ane alin the the are an an t athe the the the an are on the the the ane athere ane an the thererere thererererere the t the ate in therere the therere one t the \n",
            "\n",
            "6/6 [==============================] - 25s 4s/step - loss: 1.2088 - val_loss: 1.4853\n",
            "Epoch 7/10\n",
            "6/6 [==============================] - 25s 4s/step - loss: 1.1684 - val_loss: 1.4642\n",
            "Epoch 8/10\n",
            "6/6 [==============================] - 18s 3s/step - loss: 1.1372 - val_loss: 1.4494\n",
            "Epoch 9/10\n",
            "6/6 [==============================] - 24s 4s/step - loss: 1.1129 - val_loss: 1.4367\n",
            "Epoch 10/10\n",
            "6/6 [==============================] - 25s 4s/step - loss: 1.0928 - val_loss: 1.4309\n"
          ]
        }
      ],
      "source": [
        "history = model.fit(ds, validation_data=val_ds, callbacks=[display_cb], epochs=10)"
      ]
    },
    {
      "cell_type": "markdown",
      "source": [
        "##Evaluate\n",
        "We get 14% accuracy for the model"
      ],
      "metadata": {
        "id": "Cyh51OSnMokY"
      }
    },
    {
      "cell_type": "code",
      "source": [
        "model.evaluate(val_ds, batch_size=64)"
      ],
      "metadata": {
        "id": "rhlXHIpg-uSC",
        "colab": {
          "base_uri": "https://localhost:8080/"
        },
        "outputId": "42dce05c-8eaf-49ca-afd8-58ed7c49e50c"
      },
      "execution_count": null,
      "outputs": [
        {
          "output_type": "stream",
          "name": "stdout",
          "text": [
            "21/21 [==============================] - 6s 254ms/step - loss: 1.4309\n"
          ]
        },
        {
          "output_type": "execute_result",
          "data": {
            "text/plain": [
              "1.4309254884719849"
            ]
          },
          "metadata": {},
          "execution_count": 43
        }
      ]
    },
    {
      "cell_type": "code",
      "source": [],
      "metadata": {
        "id": "th02NTr6MOhS"
      },
      "execution_count": null,
      "outputs": []
    }
  ],
  "metadata": {
    "colab": {
      "provenance": []
    },
    "kernelspec": {
      "display_name": "Python 3 (ipykernel)",
      "language": "python",
      "name": "python3"
    },
    "language_info": {
      "codemirror_mode": {
        "name": "ipython",
        "version": 3
      },
      "file_extension": ".py",
      "mimetype": "text/x-python",
      "name": "python",
      "nbconvert_exporter": "python",
      "pygments_lexer": "ipython3",
      "version": "3.9.4"
    },
    "accelerator": "GPU"
  },
  "nbformat": 4,
  "nbformat_minor": 0
}